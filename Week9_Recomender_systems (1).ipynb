{
 "cells": [
  {
   "cell_type": "markdown",
   "metadata": {
    "id": "p8AgkWNMxqX5"
   },
   "source": [
    "## **Week 9: Recommender Systems Workshop**"
   ]
  },
  {
   "cell_type": "markdown",
   "metadata": {
    "id": "N637vvJAjM7m"
   },
   "source": [
    "Aman Kumar"
   ]
  },
  {
   "cell_type": "markdown",
   "metadata": {
    "id": "bukv2PiHjQGM"
   },
   "source": [
    "Adapted from Armand Olivares. 2019. Building NLP Content-Based Recommender Systems https://medium.com/@armandj.olivares/building-nlp-content-based-recommender-systems-b104a709c042"
   ]
  },
  {
   "cell_type": "markdown",
   "metadata": {
    "id": "x3ardLynyB26"
   },
   "source": [
    "### Getting Data\n",
    "\n",
    "This demo shows how to upload files from google drive. If you prefer using upload methods from local files, make sure to modify file import code."
   ]
  },
  {
   "cell_type": "code",
   "execution_count": 55,
   "metadata": {
    "colab": {
     "base_uri": "https://localhost:8080/"
    },
    "id": "CSxPbPErjCiD",
    "outputId": "f8187abc-2406-4fdc-fcfb-c5513241baf8"
   },
   "outputs": [
    {
     "name": "stdout",
     "output_type": "stream",
     "text": [
      "Drive already mounted at /content/gdrive; to attempt to forcibly remount, call drive.mount(\"/content/gdrive\", force_remount=True).\n"
     ]
    }
   ],
   "source": [
    "from google.colab import drive\r\n",
    "drive.mount('/content/gdrive')"
   ]
  },
  {
   "cell_type": "code",
   "execution_count": 56,
   "metadata": {
    "colab": {
     "base_uri": "https://localhost:8080/"
    },
    "id": "IyXZG68rnF7S",
    "outputId": "1112a3c9-cbeb-45f1-bfe1-6d86567e0b79"
   },
   "outputs": [
    {
     "name": "stdout",
     "output_type": "stream",
     "text": [
      "total 161329\n",
      "154878 -rw------- 1 root root 158594370 Mar  9 15:44 Combined_Jobs_Final.csv\n",
      "  2770 -rw------- 1 root root   2836104 Mar  9 15:43 Experience.csv\n",
      "  3214 -rw------- 1 root root   3291093 Mar  9 15:43 Job_Views.csv\n",
      "   468 -rw------- 1 root root    478462 Mar  9 15:41 Positions_Of_Interest.csv\n"
     ]
    }
   ],
   "source": [
    "!ls -ls /content/gdrive/'My Drive'/Week9-WS1_data"
   ]
  },
  {
   "cell_type": "code",
   "execution_count": 57,
   "metadata": {
    "colab": {
     "base_uri": "https://localhost:8080/"
    },
    "id": "_6UcJUimshq2",
    "outputId": "4006d1ea-4e71-43de-c68a-5705cb944b5a"
   },
   "outputs": [
    {
     "name": "stdout",
     "output_type": "stream",
     "text": [
      "/content\n"
     ]
    }
   ],
   "source": [
    "! pwd"
   ]
  },
  {
   "cell_type": "code",
   "execution_count": 58,
   "metadata": {
    "colab": {
     "base_uri": "https://localhost:8080/"
    },
    "id": "YGskVe8cr56V",
    "outputId": "ba1baa0b-fee9-4eb1-9888-9d39e56348d6"
   },
   "outputs": [
    {
     "name": "stdout",
     "output_type": "stream",
     "text": [
      "^C\n"
     ]
    }
   ],
   "source": [
    "! cp -r /content/gdrive/'My Drive'/Week9-WS1_data /content"
   ]
  },
  {
   "cell_type": "code",
   "execution_count": 59,
   "metadata": {
    "colab": {
     "base_uri": "https://localhost:8080/"
    },
    "id": "guQwZOhktBcB",
    "outputId": "b2993c63-05ae-41fb-ff84-40c125137e01"
   },
   "outputs": [
    {
     "name": "stdout",
     "output_type": "stream",
     "text": [
      "gdrive\tsample_data  Week9-WS1_data\n"
     ]
    }
   ],
   "source": [
    "! ls /content/"
   ]
  },
  {
   "cell_type": "markdown",
   "metadata": {
    "id": "Mr_d0OWByMEa"
   },
   "source": [
    "### Importing libraries and data exploration"
   ]
  },
  {
   "cell_type": "code",
   "execution_count": 6,
   "metadata": {
    "id": "nqa9cI1ryXVX"
   },
   "outputs": [],
   "source": [
    "import pandas as pd\r\n",
    "import numpy as np\r\n",
    "import nltk\r\n",
    "\r\n",
    "from nltk.corpus import stopwords\r\n",
    "import re\r\n",
    "import string\r\n",
    "from nltk.stem import WordNetLemmatizer\r\n",
    "from nltk import word_tokenize\r\n",
    "from nltk.corpus import stopwords"
   ]
  },
  {
   "cell_type": "code",
   "execution_count": 7,
   "metadata": {
    "colab": {
     "base_uri": "https://localhost:8080/"
    },
    "id": "SOfY9yCNthp6",
    "outputId": "3f034730-0bc8-4cab-d7f7-caf90ec3f465"
   },
   "outputs": [
    {
     "name": "stdout",
     "output_type": "stream",
     "text": [
      "[nltk_data] Downloading package punkt to /root/nltk_data...\n",
      "[nltk_data]   Package punkt is already up-to-date!\n",
      "[nltk_data] Downloading package stopwords to /root/nltk_data...\n",
      "[nltk_data]   Package stopwords is already up-to-date!\n",
      "[nltk_data] Downloading package wordnet to /root/nltk_data...\n",
      "[nltk_data]   Package wordnet is already up-to-date!\n",
      "[nltk_data] Downloading package averaged_perceptron_tagger to\n",
      "[nltk_data]     /root/nltk_data...\n",
      "[nltk_data]   Package averaged_perceptron_tagger is already up-to-\n",
      "[nltk_data]       date!\n"
     ]
    },
    {
     "data": {
      "text/plain": [
       "True"
      ]
     },
     "execution_count": 7,
     "metadata": {
      "tags": []
     },
     "output_type": "execute_result"
    }
   ],
   "source": [
    "nltk.download('punkt')\r\n",
    "nltk.download('stopwords')\r\n",
    "nltk.download('wordnet')\r\n",
    "nltk.download('averaged_perceptron_tagger')"
   ]
  },
  {
   "cell_type": "code",
   "execution_count": 8,
   "metadata": {
    "id": "C3enCzMgtNBz"
   },
   "outputs": [],
   "source": [
    "directory= '/content/Week9-WS1_data'"
   ]
  },
  {
   "cell_type": "code",
   "execution_count": 9,
   "metadata": {
    "id": "BvGbjbyG0b6v"
   },
   "outputs": [],
   "source": [
    "# ## reading the files\r\n",
    "df_jobs = pd.read_csv(directory+'/Combined_Jobs_Final.csv')\r\n",
    "df_exp= pd.read_csv(directory+'/Experience.csv') # previous experience of the applicant\r\n",
    "df_views= pd.read_csv(directory+'/Job_Views.csv') # df showing job postings that the applicant has viewed\r\n",
    "df_poi= pd.read_csv(directory+'/Positions_Of_Interest.csv') # positions of interest of the applicant"
   ]
  },
  {
   "cell_type": "code",
   "execution_count": 10,
   "metadata": {
    "colab": {
     "base_uri": "https://localhost:8080/",
     "height": 568
    },
    "id": "0tXGdoJ2nnjT",
    "outputId": "a189a607-c763-4619-90b0-9da4763e8ba5"
   },
   "outputs": [
    {
     "data": {
      "text/html": [
       "<div>\n",
       "<style scoped>\n",
       "    .dataframe tbody tr th:only-of-type {\n",
       "        vertical-align: middle;\n",
       "    }\n",
       "\n",
       "    .dataframe tbody tr th {\n",
       "        vertical-align: top;\n",
       "    }\n",
       "\n",
       "    .dataframe thead th {\n",
       "        text-align: right;\n",
       "    }\n",
       "</style>\n",
       "<table border=\"1\" class=\"dataframe\">\n",
       "  <thead>\n",
       "    <tr style=\"text-align: right;\">\n",
       "      <th></th>\n",
       "      <th>Job.ID</th>\n",
       "      <th>Provider</th>\n",
       "      <th>Status</th>\n",
       "      <th>Slug</th>\n",
       "      <th>Title</th>\n",
       "      <th>Position</th>\n",
       "      <th>Company</th>\n",
       "      <th>City</th>\n",
       "      <th>State.Name</th>\n",
       "      <th>State.Code</th>\n",
       "      <th>Address</th>\n",
       "      <th>Latitude</th>\n",
       "      <th>Longitude</th>\n",
       "      <th>Industry</th>\n",
       "      <th>Job.Description</th>\n",
       "      <th>Requirements</th>\n",
       "      <th>Salary</th>\n",
       "      <th>Listing.Start</th>\n",
       "      <th>Listing.End</th>\n",
       "      <th>Employment.Type</th>\n",
       "      <th>Education.Required</th>\n",
       "      <th>Created.At</th>\n",
       "      <th>Updated.At</th>\n",
       "    </tr>\n",
       "  </thead>\n",
       "  <tbody>\n",
       "    <tr>\n",
       "      <th>0</th>\n",
       "      <td>111</td>\n",
       "      <td>1</td>\n",
       "      <td>open</td>\n",
       "      <td>palo-alto-ca-tacolicious-server</td>\n",
       "      <td>Server @ Tacolicious</td>\n",
       "      <td>Server</td>\n",
       "      <td>Tacolicious</td>\n",
       "      <td>Palo Alto</td>\n",
       "      <td>California</td>\n",
       "      <td>CA</td>\n",
       "      <td>NaN</td>\n",
       "      <td>37.443346</td>\n",
       "      <td>-122.161170</td>\n",
       "      <td>Food and Beverages</td>\n",
       "      <td>Tacolicious' first Palo Alto store just opened...</td>\n",
       "      <td>NaN</td>\n",
       "      <td>8.00</td>\n",
       "      <td>NaN</td>\n",
       "      <td>NaN</td>\n",
       "      <td>Part-Time</td>\n",
       "      <td>NaN</td>\n",
       "      <td>2013-03-12 02:08:28 UTC</td>\n",
       "      <td>2014-08-16 15:35:36 UTC</td>\n",
       "    </tr>\n",
       "    <tr>\n",
       "      <th>1</th>\n",
       "      <td>113</td>\n",
       "      <td>1</td>\n",
       "      <td>open</td>\n",
       "      <td>san-francisco-ca-claude-lane-kitchen-staff-chef</td>\n",
       "      <td>Kitchen Staff/Chef @ Claude Lane</td>\n",
       "      <td>Kitchen Staff/Chef</td>\n",
       "      <td>Claude Lane</td>\n",
       "      <td>San Francisco</td>\n",
       "      <td>California</td>\n",
       "      <td>CA</td>\n",
       "      <td>NaN</td>\n",
       "      <td>37.789830</td>\n",
       "      <td>-122.404268</td>\n",
       "      <td>Food and Beverages</td>\n",
       "      <td>\\r\\n\\r\\nNew French Brasserie in S.F. Financia...</td>\n",
       "      <td>NaN</td>\n",
       "      <td>0.00</td>\n",
       "      <td>NaN</td>\n",
       "      <td>NaN</td>\n",
       "      <td>Part-Time</td>\n",
       "      <td>NaN</td>\n",
       "      <td>2013-04-12 08:36:36 UTC</td>\n",
       "      <td>2014-08-16 15:35:36 UTC</td>\n",
       "    </tr>\n",
       "    <tr>\n",
       "      <th>2</th>\n",
       "      <td>117</td>\n",
       "      <td>1</td>\n",
       "      <td>open</td>\n",
       "      <td>san-francisco-ca-machka-restaurants-corp-barte...</td>\n",
       "      <td>Bartender @ Machka Restaurants Corp.</td>\n",
       "      <td>Bartender</td>\n",
       "      <td>Machka Restaurants Corp.</td>\n",
       "      <td>San Francisco</td>\n",
       "      <td>California</td>\n",
       "      <td>CA</td>\n",
       "      <td>NaN</td>\n",
       "      <td>37.795597</td>\n",
       "      <td>-122.402963</td>\n",
       "      <td>Food and Beverages</td>\n",
       "      <td>We are a popular Mediterranean wine bar and re...</td>\n",
       "      <td>NaN</td>\n",
       "      <td>11.00</td>\n",
       "      <td>NaN</td>\n",
       "      <td>NaN</td>\n",
       "      <td>Part-Time</td>\n",
       "      <td>NaN</td>\n",
       "      <td>2013-07-16 09:34:10 UTC</td>\n",
       "      <td>2014-08-16 15:35:37 UTC</td>\n",
       "    </tr>\n",
       "    <tr>\n",
       "      <th>3</th>\n",
       "      <td>121</td>\n",
       "      <td>1</td>\n",
       "      <td>open</td>\n",
       "      <td>brisbane-ca-teriyaki-house-server</td>\n",
       "      <td>Server @ Teriyaki House</td>\n",
       "      <td>Server</td>\n",
       "      <td>Teriyaki House</td>\n",
       "      <td>Brisbane</td>\n",
       "      <td>California</td>\n",
       "      <td>CA</td>\n",
       "      <td>NaN</td>\n",
       "      <td>37.685073</td>\n",
       "      <td>-122.400275</td>\n",
       "      <td>Food and Beverages</td>\n",
       "      <td>● Serve food/drinks to customers in a profess...</td>\n",
       "      <td>NaN</td>\n",
       "      <td>10.55</td>\n",
       "      <td>NaN</td>\n",
       "      <td>NaN</td>\n",
       "      <td>Part-Time</td>\n",
       "      <td>NaN</td>\n",
       "      <td>2013-09-04 15:40:30 UTC</td>\n",
       "      <td>2014-08-16 15:35:38 UTC</td>\n",
       "    </tr>\n",
       "    <tr>\n",
       "      <th>4</th>\n",
       "      <td>127</td>\n",
       "      <td>1</td>\n",
       "      <td>open</td>\n",
       "      <td>los-angeles-ca-rosa-mexicano-sunset-kitchen-st...</td>\n",
       "      <td>Kitchen Staff/Chef @ Rosa Mexicano - Sunset</td>\n",
       "      <td>Kitchen Staff/Chef</td>\n",
       "      <td>Rosa Mexicano - Sunset</td>\n",
       "      <td>Los Angeles</td>\n",
       "      <td>California</td>\n",
       "      <td>CA</td>\n",
       "      <td>NaN</td>\n",
       "      <td>34.073384</td>\n",
       "      <td>-118.460439</td>\n",
       "      <td>Food and Beverages</td>\n",
       "      <td>Located at the heart of Hollywood, we are one ...</td>\n",
       "      <td>NaN</td>\n",
       "      <td>10.55</td>\n",
       "      <td>NaN</td>\n",
       "      <td>NaN</td>\n",
       "      <td>Part-Time</td>\n",
       "      <td>NaN</td>\n",
       "      <td>2013-07-17 15:26:18 UTC</td>\n",
       "      <td>2014-08-16 15:35:40 UTC</td>\n",
       "    </tr>\n",
       "  </tbody>\n",
       "</table>\n",
       "</div>"
      ],
      "text/plain": [
       "   Job.ID  Provider  ...               Created.At               Updated.At\n",
       "0     111         1  ...  2013-03-12 02:08:28 UTC  2014-08-16 15:35:36 UTC\n",
       "1     113         1  ...  2013-04-12 08:36:36 UTC  2014-08-16 15:35:36 UTC\n",
       "2     117         1  ...  2013-07-16 09:34:10 UTC  2014-08-16 15:35:37 UTC\n",
       "3     121         1  ...  2013-09-04 15:40:30 UTC  2014-08-16 15:35:38 UTC\n",
       "4     127         1  ...  2013-07-17 15:26:18 UTC  2014-08-16 15:35:40 UTC\n",
       "\n",
       "[5 rows x 23 columns]"
      ]
     },
     "execution_count": 10,
     "metadata": {
      "tags": []
     },
     "output_type": "execute_result"
    }
   ],
   "source": [
    "df_jobs.head()"
   ]
  },
  {
   "cell_type": "code",
   "execution_count": 11,
   "metadata": {
    "colab": {
     "base_uri": "https://localhost:8080/",
     "height": 363
    },
    "id": "MC3bncfBrwu_",
    "outputId": "df0b359f-19a1-41b5-9642-ce90616af797"
   },
   "outputs": [
    {
     "data": {
      "text/html": [
       "<div>\n",
       "<style scoped>\n",
       "    .dataframe tbody tr th:only-of-type {\n",
       "        vertical-align: middle;\n",
       "    }\n",
       "\n",
       "    .dataframe tbody tr th {\n",
       "        vertical-align: top;\n",
       "    }\n",
       "\n",
       "    .dataframe thead th {\n",
       "        text-align: right;\n",
       "    }\n",
       "</style>\n",
       "<table border=\"1\" class=\"dataframe\">\n",
       "  <thead>\n",
       "    <tr style=\"text-align: right;\">\n",
       "      <th></th>\n",
       "      <th>Applicant.ID</th>\n",
       "      <th>Position.Name</th>\n",
       "      <th>Employer.Name</th>\n",
       "      <th>City</th>\n",
       "      <th>State.Name</th>\n",
       "      <th>State.Code</th>\n",
       "      <th>Start.Date</th>\n",
       "      <th>End.Date</th>\n",
       "      <th>Job.Description</th>\n",
       "      <th>Salary</th>\n",
       "      <th>Can.Contact.Employer</th>\n",
       "      <th>Created.At</th>\n",
       "      <th>Updated.At</th>\n",
       "    </tr>\n",
       "  </thead>\n",
       "  <tbody>\n",
       "    <tr>\n",
       "      <th>0</th>\n",
       "      <td>10001</td>\n",
       "      <td>Account Manager / Sales Administration / Quali...</td>\n",
       "      <td>Barcode Resourcing</td>\n",
       "      <td>Bellingham</td>\n",
       "      <td>Washington</td>\n",
       "      <td>WA</td>\n",
       "      <td>2012-10-15</td>\n",
       "      <td>NaN</td>\n",
       "      <td>NaN</td>\n",
       "      <td>NaN</td>\n",
       "      <td>NaN</td>\n",
       "      <td>2014-12-12 20:10:02 UTC</td>\n",
       "      <td>2014-12-12 20:10:02 UTC</td>\n",
       "    </tr>\n",
       "    <tr>\n",
       "      <th>1</th>\n",
       "      <td>10001</td>\n",
       "      <td>Electronics Technician / Item Master Controller</td>\n",
       "      <td>Ryzex Group</td>\n",
       "      <td>Bellingham</td>\n",
       "      <td>Washington</td>\n",
       "      <td>WA</td>\n",
       "      <td>2001-12-01</td>\n",
       "      <td>2012-04-01</td>\n",
       "      <td>NaN</td>\n",
       "      <td>NaN</td>\n",
       "      <td>NaN</td>\n",
       "      <td>2014-12-12 20:10:02 UTC</td>\n",
       "      <td>2014-12-12 20:10:02 UTC</td>\n",
       "    </tr>\n",
       "    <tr>\n",
       "      <th>2</th>\n",
       "      <td>10001</td>\n",
       "      <td>Machine Operator</td>\n",
       "      <td>comptec inc</td>\n",
       "      <td>Custer</td>\n",
       "      <td>Washington</td>\n",
       "      <td>WA</td>\n",
       "      <td>1997-01-01</td>\n",
       "      <td>1999-01-01</td>\n",
       "      <td>NaN</td>\n",
       "      <td>NaN</td>\n",
       "      <td>NaN</td>\n",
       "      <td>2014-12-12 20:10:02 UTC</td>\n",
       "      <td>2014-12-12 20:10:02 UTC</td>\n",
       "    </tr>\n",
       "    <tr>\n",
       "      <th>3</th>\n",
       "      <td>10003</td>\n",
       "      <td>maintenance technician</td>\n",
       "      <td>Winn residental</td>\n",
       "      <td>washington</td>\n",
       "      <td>District of Columbia</td>\n",
       "      <td>DC</td>\n",
       "      <td>NaN</td>\n",
       "      <td>NaN</td>\n",
       "      <td>Necessary maintenance for \"Make Ready\" Plumbin...</td>\n",
       "      <td>10.0</td>\n",
       "      <td>False</td>\n",
       "      <td>2014-12-12 21:27:05 UTC</td>\n",
       "      <td>2014-12-12 21:27:05 UTC</td>\n",
       "    </tr>\n",
       "    <tr>\n",
       "      <th>4</th>\n",
       "      <td>10003</td>\n",
       "      <td>Electrical Helper</td>\n",
       "      <td>michael and son services</td>\n",
       "      <td>alexandria</td>\n",
       "      <td>Virginia</td>\n",
       "      <td>VA</td>\n",
       "      <td>NaN</td>\n",
       "      <td>NaN</td>\n",
       "      <td>repair and services of electrical construction</td>\n",
       "      <td>NaN</td>\n",
       "      <td>False</td>\n",
       "      <td>2014-12-12 21:27:05 UTC</td>\n",
       "      <td>2014-12-12 21:27:05 UTC</td>\n",
       "    </tr>\n",
       "  </tbody>\n",
       "</table>\n",
       "</div>"
      ],
      "text/plain": [
       "   Applicant.ID  ...               Updated.At\n",
       "0         10001  ...  2014-12-12 20:10:02 UTC\n",
       "1         10001  ...  2014-12-12 20:10:02 UTC\n",
       "2         10001  ...  2014-12-12 20:10:02 UTC\n",
       "3         10003  ...  2014-12-12 21:27:05 UTC\n",
       "4         10003  ...  2014-12-12 21:27:05 UTC\n",
       "\n",
       "[5 rows x 13 columns]"
      ]
     },
     "execution_count": 11,
     "metadata": {
      "tags": []
     },
     "output_type": "execute_result"
    }
   ],
   "source": [
    "df_exp.head()"
   ]
  },
  {
   "cell_type": "code",
   "execution_count": 12,
   "metadata": {
    "colab": {
     "base_uri": "https://localhost:8080/",
     "height": 447
    },
    "id": "Z-yJkYmt2byY",
    "outputId": "600c1463-0e61-4835-ce5c-b3830c1d1be7"
   },
   "outputs": [
    {
     "data": {
      "text/html": [
       "<div>\n",
       "<style scoped>\n",
       "    .dataframe tbody tr th:only-of-type {\n",
       "        vertical-align: middle;\n",
       "    }\n",
       "\n",
       "    .dataframe tbody tr th {\n",
       "        vertical-align: top;\n",
       "    }\n",
       "\n",
       "    .dataframe thead th {\n",
       "        text-align: right;\n",
       "    }\n",
       "</style>\n",
       "<table border=\"1\" class=\"dataframe\">\n",
       "  <thead>\n",
       "    <tr style=\"text-align: right;\">\n",
       "      <th></th>\n",
       "      <th>Applicant.ID</th>\n",
       "      <th>Job.ID</th>\n",
       "      <th>Title</th>\n",
       "      <th>Position</th>\n",
       "      <th>Company</th>\n",
       "      <th>City</th>\n",
       "      <th>State.Name</th>\n",
       "      <th>State.Code</th>\n",
       "      <th>Industry</th>\n",
       "      <th>View.Start</th>\n",
       "      <th>View.End</th>\n",
       "      <th>View.Duration</th>\n",
       "      <th>Created.At</th>\n",
       "      <th>Updated.At</th>\n",
       "    </tr>\n",
       "  </thead>\n",
       "  <tbody>\n",
       "    <tr>\n",
       "      <th>0</th>\n",
       "      <td>10000</td>\n",
       "      <td>73666</td>\n",
       "      <td>Cashiers &amp; Valets Needed! @ WallyPark</td>\n",
       "      <td>Cashiers &amp; Valets Needed!</td>\n",
       "      <td>WallyPark</td>\n",
       "      <td>Newark</td>\n",
       "      <td>New Jersey</td>\n",
       "      <td>NJ</td>\n",
       "      <td>NaN</td>\n",
       "      <td>2014-12-12 20:12:35 UTC</td>\n",
       "      <td>2014-12-12 20:31:24 UTC</td>\n",
       "      <td>1129.0</td>\n",
       "      <td>2014-12-12 20:12:35 UTC</td>\n",
       "      <td>2014-12-12 20:12:35 UTC</td>\n",
       "    </tr>\n",
       "    <tr>\n",
       "      <th>1</th>\n",
       "      <td>10000</td>\n",
       "      <td>96655</td>\n",
       "      <td>Macy's Seasonal Retail Fragrance Cashier  - Ga...</td>\n",
       "      <td>Macy's Seasonal Retail Fragrance Cashier  - Ga...</td>\n",
       "      <td>Macy's</td>\n",
       "      <td>Garden City</td>\n",
       "      <td>New York</td>\n",
       "      <td>NY</td>\n",
       "      <td>NaN</td>\n",
       "      <td>2014-12-12 20:08:50 UTC</td>\n",
       "      <td>2014-12-12 20:10:15 UTC</td>\n",
       "      <td>84.0</td>\n",
       "      <td>2014-12-12 20:08:50 UTC</td>\n",
       "      <td>2014-12-12 20:08:50 UTC</td>\n",
       "    </tr>\n",
       "    <tr>\n",
       "      <th>2</th>\n",
       "      <td>10001</td>\n",
       "      <td>84141</td>\n",
       "      <td>Part Time Showroom Sales / Cashier @ Grizzly I...</td>\n",
       "      <td>Part Time Showroom Sales / Cashier</td>\n",
       "      <td>Grizzly Industrial Inc.</td>\n",
       "      <td>Bellingham</td>\n",
       "      <td>Washington</td>\n",
       "      <td>WA</td>\n",
       "      <td>NaN</td>\n",
       "      <td>2014-12-12 20:12:32 UTC</td>\n",
       "      <td>2014-12-12 20:17:18 UTC</td>\n",
       "      <td>286.0</td>\n",
       "      <td>2014-12-12 20:12:32 UTC</td>\n",
       "      <td>2014-12-12 20:12:32 UTC</td>\n",
       "    </tr>\n",
       "    <tr>\n",
       "      <th>3</th>\n",
       "      <td>10002</td>\n",
       "      <td>77989</td>\n",
       "      <td>Event Specialist Part Time @ Advantage Sales &amp;...</td>\n",
       "      <td>Event Specialist Part Time</td>\n",
       "      <td>Advantage Sales &amp; Marketing</td>\n",
       "      <td>Simpsonville</td>\n",
       "      <td>South Carolina</td>\n",
       "      <td>SC</td>\n",
       "      <td>NaN</td>\n",
       "      <td>2014-12-12 20:39:23 UTC</td>\n",
       "      <td>2014-12-12 20:42:13 UTC</td>\n",
       "      <td>170.0</td>\n",
       "      <td>2014-12-12 20:39:23 UTC</td>\n",
       "      <td>2014-12-12 20:39:23 UTC</td>\n",
       "    </tr>\n",
       "    <tr>\n",
       "      <th>4</th>\n",
       "      <td>10002</td>\n",
       "      <td>69568</td>\n",
       "      <td>Bonefish - Kitchen Staff @ Bonefish Grill</td>\n",
       "      <td>Bonefish - Kitchen Staff</td>\n",
       "      <td>Bonefish Grill</td>\n",
       "      <td>Greenville</td>\n",
       "      <td>South Carolina</td>\n",
       "      <td>SC</td>\n",
       "      <td>NaN</td>\n",
       "      <td>2014-12-12 20:43:25 UTC</td>\n",
       "      <td>2014-12-12 20:43:58 UTC</td>\n",
       "      <td>33.0</td>\n",
       "      <td>2014-12-12 20:43:25 UTC</td>\n",
       "      <td>2014-12-12 20:43:25 UTC</td>\n",
       "    </tr>\n",
       "  </tbody>\n",
       "</table>\n",
       "</div>"
      ],
      "text/plain": [
       "   Applicant.ID  Job.ID  ...               Created.At               Updated.At\n",
       "0         10000   73666  ...  2014-12-12 20:12:35 UTC  2014-12-12 20:12:35 UTC\n",
       "1         10000   96655  ...  2014-12-12 20:08:50 UTC  2014-12-12 20:08:50 UTC\n",
       "2         10001   84141  ...  2014-12-12 20:12:32 UTC  2014-12-12 20:12:32 UTC\n",
       "3         10002   77989  ...  2014-12-12 20:39:23 UTC  2014-12-12 20:39:23 UTC\n",
       "4         10002   69568  ...  2014-12-12 20:43:25 UTC  2014-12-12 20:43:25 UTC\n",
       "\n",
       "[5 rows x 14 columns]"
      ]
     },
     "execution_count": 12,
     "metadata": {
      "tags": []
     },
     "output_type": "execute_result"
    }
   ],
   "source": [
    "df_views.head()"
   ]
  },
  {
   "cell_type": "code",
   "execution_count": 13,
   "metadata": {
    "colab": {
     "base_uri": "https://localhost:8080/",
     "height": 195
    },
    "id": "bU1eZg5v2d4n",
    "outputId": "6e3acfe8-57df-4027-f747-43262b6ce99e"
   },
   "outputs": [
    {
     "data": {
      "text/html": [
       "<div>\n",
       "<style scoped>\n",
       "    .dataframe tbody tr th:only-of-type {\n",
       "        vertical-align: middle;\n",
       "    }\n",
       "\n",
       "    .dataframe tbody tr th {\n",
       "        vertical-align: top;\n",
       "    }\n",
       "\n",
       "    .dataframe thead th {\n",
       "        text-align: right;\n",
       "    }\n",
       "</style>\n",
       "<table border=\"1\" class=\"dataframe\">\n",
       "  <thead>\n",
       "    <tr style=\"text-align: right;\">\n",
       "      <th></th>\n",
       "      <th>Applicant.ID</th>\n",
       "      <th>Position.Of.Interest</th>\n",
       "      <th>Created.At</th>\n",
       "      <th>Updated.At</th>\n",
       "    </tr>\n",
       "  </thead>\n",
       "  <tbody>\n",
       "    <tr>\n",
       "      <th>0</th>\n",
       "      <td>10003</td>\n",
       "      <td>security officer</td>\n",
       "      <td>2014-12-12 21:20:54 UTC</td>\n",
       "      <td>2014-12-12 21:20:54 UTC</td>\n",
       "    </tr>\n",
       "    <tr>\n",
       "      <th>1</th>\n",
       "      <td>10007</td>\n",
       "      <td>Server</td>\n",
       "      <td>2014-08-14 15:56:42 UTC</td>\n",
       "      <td>2015-02-26 20:35:12 UTC</td>\n",
       "    </tr>\n",
       "    <tr>\n",
       "      <th>2</th>\n",
       "      <td>10007</td>\n",
       "      <td>Bartender</td>\n",
       "      <td>2014-08-14 15:56:44 UTC</td>\n",
       "      <td>2015-02-19 23:21:28 UTC</td>\n",
       "    </tr>\n",
       "    <tr>\n",
       "      <th>3</th>\n",
       "      <td>10008</td>\n",
       "      <td>Host</td>\n",
       "      <td>2014-08-14 15:56:42 UTC</td>\n",
       "      <td>2015-02-26 20:35:12 UTC</td>\n",
       "    </tr>\n",
       "    <tr>\n",
       "      <th>4</th>\n",
       "      <td>10008</td>\n",
       "      <td>Barista</td>\n",
       "      <td>2014-08-14 15:56:43 UTC</td>\n",
       "      <td>2015-02-18 02:35:06 UTC</td>\n",
       "    </tr>\n",
       "  </tbody>\n",
       "</table>\n",
       "</div>"
      ],
      "text/plain": [
       "   Applicant.ID  ...               Updated.At\n",
       "0         10003  ...  2014-12-12 21:20:54 UTC\n",
       "1         10007  ...  2015-02-26 20:35:12 UTC\n",
       "2         10007  ...  2015-02-19 23:21:28 UTC\n",
       "3         10008  ...  2015-02-26 20:35:12 UTC\n",
       "4         10008  ...  2015-02-18 02:35:06 UTC\n",
       "\n",
       "[5 rows x 4 columns]"
      ]
     },
     "execution_count": 13,
     "metadata": {
      "tags": []
     },
     "output_type": "execute_result"
    }
   ],
   "source": [
    "df_poi.head()"
   ]
  },
  {
   "cell_type": "markdown",
   "metadata": {
    "id": "VUE6LKNv5wFR"
   },
   "source": [
    "###1st inspecting jobs_df and creating jobs corpus\r\n"
   ]
  },
  {
   "cell_type": "code",
   "execution_count": 14,
   "metadata": {
    "colab": {
     "base_uri": "https://localhost:8080/",
     "height": 0
    },
    "id": "-ZxKyngM2g4n",
    "outputId": "0c92ab1a-283e-4bf1-dc50-f6442e5349af"
   },
   "outputs": [
    {
     "data": {
      "text/html": [
       "<div>\n",
       "<style scoped>\n",
       "    .dataframe tbody tr th:only-of-type {\n",
       "        vertical-align: middle;\n",
       "    }\n",
       "\n",
       "    .dataframe tbody tr th {\n",
       "        vertical-align: top;\n",
       "    }\n",
       "\n",
       "    .dataframe thead th {\n",
       "        text-align: right;\n",
       "    }\n",
       "</style>\n",
       "<table border=\"1\" class=\"dataframe\">\n",
       "  <thead>\n",
       "    <tr style=\"text-align: right;\">\n",
       "      <th></th>\n",
       "      <th>Job_ID</th>\n",
       "      <th>Title</th>\n",
       "      <th>Position</th>\n",
       "      <th>Company</th>\n",
       "      <th>City</th>\n",
       "      <th>Empl_type</th>\n",
       "      <th>Job_Description</th>\n",
       "    </tr>\n",
       "  </thead>\n",
       "  <tbody>\n",
       "    <tr>\n",
       "      <th>0</th>\n",
       "      <td>111</td>\n",
       "      <td>Server @ Tacolicious</td>\n",
       "      <td>Server</td>\n",
       "      <td>Tacolicious</td>\n",
       "      <td>Palo Alto</td>\n",
       "      <td>Part-Time</td>\n",
       "      <td>Tacolicious' first Palo Alto store just opened...</td>\n",
       "    </tr>\n",
       "    <tr>\n",
       "      <th>1</th>\n",
       "      <td>113</td>\n",
       "      <td>Kitchen Staff/Chef @ Claude Lane</td>\n",
       "      <td>Kitchen Staff/Chef</td>\n",
       "      <td>Claude Lane</td>\n",
       "      <td>San Francisco</td>\n",
       "      <td>Part-Time</td>\n",
       "      <td>\\r\\n\\r\\nNew French Brasserie in S.F. Financia...</td>\n",
       "    </tr>\n",
       "    <tr>\n",
       "      <th>2</th>\n",
       "      <td>117</td>\n",
       "      <td>Bartender @ Machka Restaurants Corp.</td>\n",
       "      <td>Bartender</td>\n",
       "      <td>Machka Restaurants Corp.</td>\n",
       "      <td>San Francisco</td>\n",
       "      <td>Part-Time</td>\n",
       "      <td>We are a popular Mediterranean wine bar and re...</td>\n",
       "    </tr>\n",
       "    <tr>\n",
       "      <th>3</th>\n",
       "      <td>121</td>\n",
       "      <td>Server @ Teriyaki House</td>\n",
       "      <td>Server</td>\n",
       "      <td>Teriyaki House</td>\n",
       "      <td>Brisbane</td>\n",
       "      <td>Part-Time</td>\n",
       "      <td>● Serve food/drinks to customers in a profess...</td>\n",
       "    </tr>\n",
       "    <tr>\n",
       "      <th>4</th>\n",
       "      <td>127</td>\n",
       "      <td>Kitchen Staff/Chef @ Rosa Mexicano - Sunset</td>\n",
       "      <td>Kitchen Staff/Chef</td>\n",
       "      <td>Rosa Mexicano - Sunset</td>\n",
       "      <td>Los Angeles</td>\n",
       "      <td>Part-Time</td>\n",
       "      <td>Located at the heart of Hollywood, we are one ...</td>\n",
       "    </tr>\n",
       "  </tbody>\n",
       "</table>\n",
       "</div>"
      ],
      "text/plain": [
       "   Job_ID  ...                                    Job_Description\n",
       "0     111  ...  Tacolicious' first Palo Alto store just opened...\n",
       "1     113  ...   \\r\\n\\r\\nNew French Brasserie in S.F. Financia...\n",
       "2     117  ...  We are a popular Mediterranean wine bar and re...\n",
       "3     121  ...   ● Serve food/drinks to customers in a profess...\n",
       "4     127  ...  Located at the heart of Hollywood, we are one ...\n",
       "\n",
       "[5 rows x 7 columns]"
      ]
     },
     "execution_count": 14,
     "metadata": {
      "tags": []
     },
     "output_type": "execute_result"
    }
   ],
   "source": [
    "## selecting the needful columns\r\n",
    "cols = ['Job.ID','Title','Position','Company','City','Employment.Type','Job.Description']\r\n",
    "df_jobs =df_jobs[cols]\r\n",
    "df_jobs.columns = ['Job_ID', 'Title', 'Position', 'Company','City', 'Empl_type','Job_Description']\r\n",
    "df_jobs.head()"
   ]
  },
  {
   "cell_type": "code",
   "execution_count": 15,
   "metadata": {
    "colab": {
     "base_uri": "https://localhost:8080/"
    },
    "id": "KQUGsIYy7Ybp",
    "outputId": "2222f86a-498c-48f7-ffed-52a1586f8457"
   },
   "outputs": [
    {
     "data": {
      "text/plain": [
       "Job_ID                0\n",
       "Title                 0\n",
       "Position              0\n",
       "Company            2271\n",
       "City                135\n",
       "Empl_type            10\n",
       "Job_Description      56\n",
       "dtype: int64"
      ]
     },
     "execution_count": 15,
     "metadata": {
      "tags": []
     },
     "output_type": "execute_result"
    }
   ],
   "source": [
    "df_jobs.isnull().sum()"
   ]
  },
  {
   "cell_type": "code",
   "execution_count": 16,
   "metadata": {
    "colab": {
     "base_uri": "https://localhost:8080/"
    },
    "id": "v2RtpcrxuWYZ",
    "outputId": "4bbecb67-33b1-47a4-a8e3-cf0305bdc134"
   },
   "outputs": [
    {
     "name": "stdout",
     "output_type": "stream",
     "text": [
      "84090 84090\n"
     ]
    }
   ],
   "source": [
    "print(len(set(df_jobs['Job_ID'])), len(df_jobs['Job_ID']))"
   ]
  },
  {
   "cell_type": "markdown",
   "metadata": {
    "id": "dqzh5WNaq3aK"
   },
   "source": [
    "Creating an additional column of jobs corpus"
   ]
  },
  {
   "cell_type": "code",
   "execution_count": 17,
   "metadata": {
    "colab": {
     "base_uri": "https://localhost:8080/",
     "height": 0
    },
    "id": "zZs4j4HaowBs",
    "outputId": "16f68b2e-ab9f-4077-deea-679b09e04e38"
   },
   "outputs": [
    {
     "data": {
      "text/html": [
       "<div>\n",
       "<style scoped>\n",
       "    .dataframe tbody tr th:only-of-type {\n",
       "        vertical-align: middle;\n",
       "    }\n",
       "\n",
       "    .dataframe tbody tr th {\n",
       "        vertical-align: top;\n",
       "    }\n",
       "\n",
       "    .dataframe thead th {\n",
       "        text-align: right;\n",
       "    }\n",
       "</style>\n",
       "<table border=\"1\" class=\"dataframe\">\n",
       "  <thead>\n",
       "    <tr style=\"text-align: right;\">\n",
       "      <th></th>\n",
       "      <th>Job_ID</th>\n",
       "      <th>Title</th>\n",
       "      <th>Position</th>\n",
       "      <th>Company</th>\n",
       "      <th>City</th>\n",
       "      <th>Empl_type</th>\n",
       "      <th>Job_Description</th>\n",
       "      <th>text</th>\n",
       "    </tr>\n",
       "  </thead>\n",
       "  <tbody>\n",
       "    <tr>\n",
       "      <th>0</th>\n",
       "      <td>111</td>\n",
       "      <td>Server @ Tacolicious</td>\n",
       "      <td>Server</td>\n",
       "      <td>Tacolicious</td>\n",
       "      <td>Palo Alto</td>\n",
       "      <td>Part-Time</td>\n",
       "      <td>Tacolicious' first Palo Alto store just opened...</td>\n",
       "      <td>Server Tacolicious Palo Alto Part-Time Tacolic...</td>\n",
       "    </tr>\n",
       "    <tr>\n",
       "      <th>1</th>\n",
       "      <td>113</td>\n",
       "      <td>Kitchen Staff/Chef @ Claude Lane</td>\n",
       "      <td>Kitchen Staff/Chef</td>\n",
       "      <td>Claude Lane</td>\n",
       "      <td>San Francisco</td>\n",
       "      <td>Part-Time</td>\n",
       "      <td>\\r\\n\\r\\nNew French Brasserie in S.F. Financia...</td>\n",
       "      <td>Kitchen Staff/Chef Claude Lane San Francisco P...</td>\n",
       "    </tr>\n",
       "  </tbody>\n",
       "</table>\n",
       "</div>"
      ],
      "text/plain": [
       "   Job_ID  ...                                               text\n",
       "0     111  ...  Server Tacolicious Palo Alto Part-Time Tacolic...\n",
       "1     113  ...  Kitchen Staff/Chef Claude Lane San Francisco P...\n",
       "\n",
       "[2 rows x 8 columns]"
      ]
     },
     "execution_count": 17,
     "metadata": {
      "tags": []
     },
     "output_type": "execute_result"
    }
   ],
   "source": [
    "df_jobs[\"text\"] = df_jobs[\"Position\"] + \" \" + df_jobs[\"Company\"] +\" \"+ df_jobs[\"City\"]+ \" \"+df_jobs['Empl_type']+\" \"+df_jobs['Job_Description'] +\" \"+df_jobs['Title']\r\n",
    "df_jobs.head(2)"
   ]
  },
  {
   "cell_type": "code",
   "execution_count": 18,
   "metadata": {
    "colab": {
     "base_uri": "https://localhost:8080/",
     "height": 0
    },
    "id": "JgTbvPM1rCj3",
    "outputId": "29795bce-123e-4f0b-a58a-88c9cbaed306"
   },
   "outputs": [
    {
     "data": {
      "text/html": [
       "<div>\n",
       "<style scoped>\n",
       "    .dataframe tbody tr th:only-of-type {\n",
       "        vertical-align: middle;\n",
       "    }\n",
       "\n",
       "    .dataframe tbody tr th {\n",
       "        vertical-align: top;\n",
       "    }\n",
       "\n",
       "    .dataframe thead th {\n",
       "        text-align: right;\n",
       "    }\n",
       "</style>\n",
       "<table border=\"1\" class=\"dataframe\">\n",
       "  <thead>\n",
       "    <tr style=\"text-align: right;\">\n",
       "      <th></th>\n",
       "      <th>Job_ID</th>\n",
       "      <th>text</th>\n",
       "      <th>Title</th>\n",
       "    </tr>\n",
       "  </thead>\n",
       "  <tbody>\n",
       "    <tr>\n",
       "      <th>0</th>\n",
       "      <td>111</td>\n",
       "      <td>Server Tacolicious Palo Alto Part-Time Tacolic...</td>\n",
       "      <td>Server @ Tacolicious</td>\n",
       "    </tr>\n",
       "    <tr>\n",
       "      <th>1</th>\n",
       "      <td>113</td>\n",
       "      <td>Kitchen Staff/Chef Claude Lane San Francisco P...</td>\n",
       "      <td>Kitchen Staff/Chef @ Claude Lane</td>\n",
       "    </tr>\n",
       "    <tr>\n",
       "      <th>2</th>\n",
       "      <td>117</td>\n",
       "      <td>Bartender Machka Restaurants Corp. San Francis...</td>\n",
       "      <td>Bartender @ Machka Restaurants Corp.</td>\n",
       "    </tr>\n",
       "    <tr>\n",
       "      <th>3</th>\n",
       "      <td>121</td>\n",
       "      <td>Server Teriyaki House Brisbane Part-Time  ● Se...</td>\n",
       "      <td>Server @ Teriyaki House</td>\n",
       "    </tr>\n",
       "    <tr>\n",
       "      <th>4</th>\n",
       "      <td>127</td>\n",
       "      <td>Kitchen Staff/Chef Rosa Mexicano - Sunset Los ...</td>\n",
       "      <td>Kitchen Staff/Chef @ Rosa Mexicano - Sunset</td>\n",
       "    </tr>\n",
       "  </tbody>\n",
       "</table>\n",
       "</div>"
      ],
      "text/plain": [
       "   Job_ID  ...                                        Title\n",
       "0     111  ...                         Server @ Tacolicious\n",
       "1     113  ...             Kitchen Staff/Chef @ Claude Lane\n",
       "2     117  ...         Bartender @ Machka Restaurants Corp.\n",
       "3     121  ...                      Server @ Teriyaki House\n",
       "4     127  ...  Kitchen Staff/Chef @ Rosa Mexicano - Sunset\n",
       "\n",
       "[5 rows x 3 columns]"
      ]
     },
     "execution_count": 18,
     "metadata": {
      "tags": []
     },
     "output_type": "execute_result"
    }
   ],
   "source": [
    "df_jobs = df_jobs[['Job_ID', 'text', 'Title']]\r\n",
    "df_jobs = df_jobs.fillna(\" \")\r\n",
    "df_jobs.head()"
   ]
  },
  {
   "cell_type": "markdown",
   "metadata": {
    "id": "SYy3lRLNzYUI"
   },
   "source": [
    "Cleaning the corpus i.e. the 'Text' column"
   ]
  },
  {
   "cell_type": "code",
   "execution_count": 19,
   "metadata": {
    "id": "y6LEThq0se88"
   },
   "outputs": [],
   "source": [
    "stop = stopwords.words('english')\r\n",
    "stop_words_ = set(stopwords.words('english'))\r\n",
    "wn = WordNetLemmatizer()\r\n",
    "\r\n",
    "def black_txt(token):\r\n",
    "    return  token not in stop_words_ and token not in list(string.punctuation)  and len(token)>2   \r\n",
    "  \r\n",
    "def clean_txt(text):\r\n",
    "  clean_text = []\r\n",
    "  clean_text2 = []\r\n",
    "  text = re.sub(\"'\", \"\",text)\r\n",
    "  text=re.sub(\"(\\\\d|\\\\W)+\",\" \",text) \r\n",
    "  text = text.replace(\"nbsp\", \"\")\r\n",
    "  clean_text = [ wn.lemmatize(word, pos=\"v\") for word in word_tokenize(text.lower()) if black_txt(word)]\r\n",
    "  clean_text2 = [word for word in clean_text if black_txt(word)]\r\n",
    "  return \" \".join(clean_text2)\r\n"
   ]
  },
  {
   "cell_type": "code",
   "execution_count": 20,
   "metadata": {
    "colab": {
     "base_uri": "https://localhost:8080/",
     "height": 0
    },
    "id": "hR6eCZhXzIdc",
    "outputId": "b0c4434f-ed6f-4274-89b8-4f1d8257129f"
   },
   "outputs": [
    {
     "data": {
      "text/html": [
       "<div>\n",
       "<style scoped>\n",
       "    .dataframe tbody tr th:only-of-type {\n",
       "        vertical-align: middle;\n",
       "    }\n",
       "\n",
       "    .dataframe tbody tr th {\n",
       "        vertical-align: top;\n",
       "    }\n",
       "\n",
       "    .dataframe thead th {\n",
       "        text-align: right;\n",
       "    }\n",
       "</style>\n",
       "<table border=\"1\" class=\"dataframe\">\n",
       "  <thead>\n",
       "    <tr style=\"text-align: right;\">\n",
       "      <th></th>\n",
       "      <th>Job_ID</th>\n",
       "      <th>text</th>\n",
       "      <th>Title</th>\n",
       "    </tr>\n",
       "  </thead>\n",
       "  <tbody>\n",
       "    <tr>\n",
       "      <th>0</th>\n",
       "      <td>111</td>\n",
       "      <td>server tacolicious palo alto part time tacolic...</td>\n",
       "      <td>Server @ Tacolicious</td>\n",
       "    </tr>\n",
       "    <tr>\n",
       "      <th>1</th>\n",
       "      <td>113</td>\n",
       "      <td>kitchen staff chef claude lane san francisco p...</td>\n",
       "      <td>Kitchen Staff/Chef @ Claude Lane</td>\n",
       "    </tr>\n",
       "  </tbody>\n",
       "</table>\n",
       "</div>"
      ],
      "text/plain": [
       "   Job_ID  ...                             Title\n",
       "0     111  ...              Server @ Tacolicious\n",
       "1     113  ...  Kitchen Staff/Chef @ Claude Lane\n",
       "\n",
       "[2 rows x 3 columns]"
      ]
     },
     "execution_count": 20,
     "metadata": {
      "tags": []
     },
     "output_type": "execute_result"
    }
   ],
   "source": [
    "df_jobs['text'] = df_jobs['text'].apply(clean_txt)\r\n",
    "df_jobs.head(2)"
   ]
  },
  {
   "cell_type": "markdown",
   "metadata": {
    "id": "rdMyRmvJztm4"
   },
   "source": [
    "TF-IDF (Generating the feature of Job corpus)"
   ]
  },
  {
   "cell_type": "code",
   "execution_count": 21,
   "metadata": {
    "colab": {
     "base_uri": "https://localhost:8080/"
    },
    "id": "S0pTNs2HzmiK",
    "outputId": "39997978-4344-4757-8356-08345554385c"
   },
   "outputs": [
    {
     "data": {
      "text/plain": [
       "<84090x50767 sparse matrix of type '<class 'numpy.float64'>'\n",
       "\twith 8249764 stored elements in Compressed Sparse Row format>"
      ]
     },
     "execution_count": 21,
     "metadata": {
      "tags": []
     },
     "output_type": "execute_result"
    }
   ],
   "source": [
    "#initializing tfidf vectorizer\r\n",
    "from sklearn.feature_extraction.text import TfidfVectorizer\r\n",
    "tfidf_vectorizer = TfidfVectorizer()\r\n",
    "\r\n",
    "tfidf_jobid = tfidf_vectorizer.fit_transform((df_jobs['text'])) #fitting and transforming the vector\r\n",
    "tfidf_jobid"
   ]
  },
  {
   "cell_type": "markdown",
   "metadata": {
    "id": "f348Fy4e5bzi"
   },
   "source": [
    "### Inspecting users' dataframes and creating the user corpus"
   ]
  },
  {
   "cell_type": "markdown",
   "metadata": {
    "id": "jrNf9VXe52R5"
   },
   "source": [
    "Job views dataset"
   ]
  },
  {
   "cell_type": "code",
   "execution_count": 22,
   "metadata": {
    "colab": {
     "base_uri": "https://localhost:8080/",
     "height": 0
    },
    "id": "gzOd4sAs5a5z",
    "outputId": "c50ecbe9-5faa-4242-d96e-3a18bb475705"
   },
   "outputs": [
    {
     "data": {
      "text/html": [
       "<div>\n",
       "<style scoped>\n",
       "    .dataframe tbody tr th:only-of-type {\n",
       "        vertical-align: middle;\n",
       "    }\n",
       "\n",
       "    .dataframe tbody tr th {\n",
       "        vertical-align: top;\n",
       "    }\n",
       "\n",
       "    .dataframe thead th {\n",
       "        text-align: right;\n",
       "    }\n",
       "</style>\n",
       "<table border=\"1\" class=\"dataframe\">\n",
       "  <thead>\n",
       "    <tr style=\"text-align: right;\">\n",
       "      <th></th>\n",
       "      <th>Applicant.ID</th>\n",
       "      <th>select_pos_com_city</th>\n",
       "    </tr>\n",
       "  </thead>\n",
       "  <tbody>\n",
       "    <tr>\n",
       "      <th>0</th>\n",
       "      <td>10000</td>\n",
       "      <td>cashier valet need wallypark newark</td>\n",
       "    </tr>\n",
       "    <tr>\n",
       "      <th>1</th>\n",
       "      <td>10000</td>\n",
       "      <td>macys seasonal retail fragrance cashier garden...</td>\n",
       "    </tr>\n",
       "    <tr>\n",
       "      <th>2</th>\n",
       "      <td>10001</td>\n",
       "      <td>part time showroom sales cashier grizzly indus...</td>\n",
       "    </tr>\n",
       "    <tr>\n",
       "      <th>3</th>\n",
       "      <td>10002</td>\n",
       "      <td>event specialist part time advantage sales mar...</td>\n",
       "    </tr>\n",
       "    <tr>\n",
       "      <th>4</th>\n",
       "      <td>10002</td>\n",
       "      <td>bonefish kitchen staff bonefish grill greenville</td>\n",
       "    </tr>\n",
       "  </tbody>\n",
       "</table>\n",
       "</div>"
      ],
      "text/plain": [
       "   Applicant.ID                                select_pos_com_city\n",
       "0         10000                cashier valet need wallypark newark\n",
       "1         10000  macys seasonal retail fragrance cashier garden...\n",
       "2         10001  part time showroom sales cashier grizzly indus...\n",
       "3         10002  event specialist part time advantage sales mar...\n",
       "4         10002   bonefish kitchen staff bonefish grill greenville"
      ]
     },
     "execution_count": 22,
     "metadata": {
      "tags": []
     },
     "output_type": "execute_result"
    }
   ],
   "source": [
    "df_views= df_views[['Applicant.ID', 'Job.ID', 'Position', 'Company','City']]\r\n",
    "df_views[\"select_pos_com_city\"] = df_views[\"Position\"] + \"  \" + df_views[\"Company\"] +\"  \"+ df_views[\"City\"]\r\n",
    "df_views['select_pos_com_city'] = df_views['select_pos_com_city'].map(str).apply(clean_txt)\r\n",
    "df_views['select_pos_com_city'] = df_views['select_pos_com_city'].str.lower()\r\n",
    "df_views = df_views[['Applicant.ID','select_pos_com_city']]\r\n",
    "df_views.head()"
   ]
  },
  {
   "cell_type": "code",
   "execution_count": 23,
   "metadata": {
    "colab": {
     "base_uri": "https://localhost:8080/",
     "height": 0
    },
    "id": "1Vwr8OiPjDMm",
    "outputId": "58fd4e8e-15dd-4649-a185-f9c417bd4242"
   },
   "outputs": [
    {
     "data": {
      "text/html": [
       "<div>\n",
       "<style scoped>\n",
       "    .dataframe tbody tr th:only-of-type {\n",
       "        vertical-align: middle;\n",
       "    }\n",
       "\n",
       "    .dataframe tbody tr th {\n",
       "        vertical-align: top;\n",
       "    }\n",
       "\n",
       "    .dataframe thead th {\n",
       "        text-align: right;\n",
       "    }\n",
       "</style>\n",
       "<table border=\"1\" class=\"dataframe\">\n",
       "  <thead>\n",
       "    <tr style=\"text-align: right;\">\n",
       "      <th></th>\n",
       "      <th>Applicant.ID</th>\n",
       "      <th>select_pos_com_city</th>\n",
       "    </tr>\n",
       "  </thead>\n",
       "  <tbody>\n",
       "    <tr>\n",
       "      <th>0</th>\n",
       "      <td>42</td>\n",
       "      <td>movie extras actors model want san francisco p...</td>\n",
       "    </tr>\n",
       "    <tr>\n",
       "      <th>1</th>\n",
       "      <td>96</td>\n",
       "      <td>kitchen staff izakaya yuzuki san francisco ser...</td>\n",
       "    </tr>\n",
       "    <tr>\n",
       "      <th>2</th>\n",
       "      <td>153</td>\n",
       "      <td>valic financial advisor intern roseville aig c...</td>\n",
       "    </tr>\n",
       "  </tbody>\n",
       "</table>\n",
       "</div>"
      ],
      "text/plain": [
       "   Applicant.ID                                select_pos_com_city\n",
       "0            42  movie extras actors model want san francisco p...\n",
       "1            96  kitchen staff izakaya yuzuki san francisco ser...\n",
       "2           153  valic financial advisor intern roseville aig c..."
      ]
     },
     "execution_count": 23,
     "metadata": {
      "tags": []
     },
     "output_type": "execute_result"
    }
   ],
   "source": [
    "df_views= df_views.groupby(\"Applicant.ID\")['select_pos_com_city'].apply(' '.join).reset_index()\r\n",
    "df_views.head(3)"
   ]
  },
  {
   "cell_type": "markdown",
   "metadata": {
    "id": "I9k-XpbZ969j"
   },
   "source": [
    "Experience data set"
   ]
  },
  {
   "cell_type": "code",
   "execution_count": 24,
   "metadata": {
    "colab": {
     "base_uri": "https://localhost:8080/",
     "height": 0
    },
    "id": "bBunmqsI2vlZ",
    "outputId": "534268d0-987b-4ea9-e9ad-3b7b2d422e7d"
   },
   "outputs": [
    {
     "data": {
      "text/html": [
       "<div>\n",
       "<style scoped>\n",
       "    .dataframe tbody tr th:only-of-type {\n",
       "        vertical-align: middle;\n",
       "    }\n",
       "\n",
       "    .dataframe tbody tr th {\n",
       "        vertical-align: top;\n",
       "    }\n",
       "\n",
       "    .dataframe thead th {\n",
       "        text-align: right;\n",
       "    }\n",
       "</style>\n",
       "<table border=\"1\" class=\"dataframe\">\n",
       "  <thead>\n",
       "    <tr style=\"text-align: right;\">\n",
       "      <th></th>\n",
       "      <th>Applicant.ID</th>\n",
       "      <th>Position.Name</th>\n",
       "    </tr>\n",
       "  </thead>\n",
       "  <tbody>\n",
       "    <tr>\n",
       "      <th>0</th>\n",
       "      <td>10001</td>\n",
       "      <td>account manager sales administration quality a...</td>\n",
       "    </tr>\n",
       "    <tr>\n",
       "      <th>1</th>\n",
       "      <td>10001</td>\n",
       "      <td>electronics technician item master controller</td>\n",
       "    </tr>\n",
       "    <tr>\n",
       "      <th>2</th>\n",
       "      <td>10001</td>\n",
       "      <td>machine operator</td>\n",
       "    </tr>\n",
       "    <tr>\n",
       "      <th>3</th>\n",
       "      <td>10003</td>\n",
       "      <td>maintenance technician</td>\n",
       "    </tr>\n",
       "    <tr>\n",
       "      <th>4</th>\n",
       "      <td>10003</td>\n",
       "      <td>electrical helper</td>\n",
       "    </tr>\n",
       "  </tbody>\n",
       "</table>\n",
       "</div>"
      ],
      "text/plain": [
       "   Applicant.ID                                      Position.Name\n",
       "0         10001  account manager sales administration quality a...\n",
       "1         10001      electronics technician item master controller\n",
       "2         10001                                   machine operator\n",
       "3         10003                             maintenance technician\n",
       "4         10003                                  electrical helper"
      ]
     },
     "execution_count": 24,
     "metadata": {
      "tags": []
     },
     "output_type": "execute_result"
    }
   ],
   "source": [
    "df_exp=df_exp[['Applicant.ID','Position.Name']]\r\n",
    "#cleaning the text\r\n",
    "df_exp['Position.Name'] = df_exp['Position.Name'].map(str).apply(clean_txt)\r\n",
    "df_exp.head()"
   ]
  },
  {
   "cell_type": "code",
   "execution_count": 25,
   "metadata": {
    "colab": {
     "base_uri": "https://localhost:8080/",
     "height": 0
    },
    "id": "3VSifIGW-Ts4",
    "outputId": "f2d713d2-d917-49ee-bce7-811ba6c433a5"
   },
   "outputs": [
    {
     "data": {
      "text/html": [
       "<div>\n",
       "<style scoped>\n",
       "    .dataframe tbody tr th:only-of-type {\n",
       "        vertical-align: middle;\n",
       "    }\n",
       "\n",
       "    .dataframe tbody tr th {\n",
       "        vertical-align: top;\n",
       "    }\n",
       "\n",
       "    .dataframe thead th {\n",
       "        text-align: right;\n",
       "    }\n",
       "</style>\n",
       "<table border=\"1\" class=\"dataframe\">\n",
       "  <thead>\n",
       "    <tr style=\"text-align: right;\">\n",
       "      <th></th>\n",
       "      <th>Applicant.ID</th>\n",
       "      <th>Position.Name</th>\n",
       "    </tr>\n",
       "  </thead>\n",
       "  <tbody>\n",
       "    <tr>\n",
       "      <th>2763</th>\n",
       "      <td>2</td>\n",
       "      <td>volunteer</td>\n",
       "    </tr>\n",
       "    <tr>\n",
       "      <th>2762</th>\n",
       "      <td>2</td>\n",
       "      <td>writer uloop blog</td>\n",
       "    </tr>\n",
       "    <tr>\n",
       "      <th>3759</th>\n",
       "      <td>3</td>\n",
       "      <td>market intern</td>\n",
       "    </tr>\n",
       "    <tr>\n",
       "      <th>3758</th>\n",
       "      <td>3</td>\n",
       "      <td>server</td>\n",
       "    </tr>\n",
       "    <tr>\n",
       "      <th>3757</th>\n",
       "      <td>3</td>\n",
       "      <td>prep cook</td>\n",
       "    </tr>\n",
       "  </tbody>\n",
       "</table>\n",
       "</div>"
      ],
      "text/plain": [
       "      Applicant.ID      Position.Name\n",
       "2763             2          volunteer\n",
       "2762             2  writer uloop blog\n",
       "3759             3      market intern\n",
       "3758             3             server\n",
       "3757             3          prep cook"
      ]
     },
     "execution_count": 25,
     "metadata": {
      "tags": []
     },
     "output_type": "execute_result"
    }
   ],
   "source": [
    "df_exp =  df_exp.sort_values(by='Applicant.ID')\r\n",
    "df_exp = df_exp.fillna(\" \")\r\n",
    "df_exp.head()"
   ]
  },
  {
   "cell_type": "markdown",
   "metadata": {
    "id": "oMz36G1Q-h_M"
   },
   "source": [
    "Club multiple applicant in one"
   ]
  },
  {
   "cell_type": "code",
   "execution_count": 26,
   "metadata": {
    "colab": {
     "base_uri": "https://localhost:8080/",
     "height": 0
    },
    "id": "xXvzJn32-fX5",
    "outputId": "d3539948-5e3a-4d31-ed91-76e8d309cdc6"
   },
   "outputs": [
    {
     "data": {
      "text/html": [
       "<div>\n",
       "<style scoped>\n",
       "    .dataframe tbody tr th:only-of-type {\n",
       "        vertical-align: middle;\n",
       "    }\n",
       "\n",
       "    .dataframe tbody tr th {\n",
       "        vertical-align: top;\n",
       "    }\n",
       "\n",
       "    .dataframe thead th {\n",
       "        text-align: right;\n",
       "    }\n",
       "</style>\n",
       "<table border=\"1\" class=\"dataframe\">\n",
       "  <thead>\n",
       "    <tr style=\"text-align: right;\">\n",
       "      <th></th>\n",
       "      <th>Applicant.ID</th>\n",
       "      <th>Position.Name</th>\n",
       "    </tr>\n",
       "  </thead>\n",
       "  <tbody>\n",
       "    <tr>\n",
       "      <th>0</th>\n",
       "      <td>2</td>\n",
       "      <td>volunteer writer uloop blog</td>\n",
       "    </tr>\n",
       "    <tr>\n",
       "      <th>1</th>\n",
       "      <td>3</td>\n",
       "      <td>market intern server prep cook</td>\n",
       "    </tr>\n",
       "    <tr>\n",
       "      <th>2</th>\n",
       "      <td>6</td>\n",
       "      <td>project assistant</td>\n",
       "    </tr>\n",
       "    <tr>\n",
       "      <th>3</th>\n",
       "      <td>8</td>\n",
       "      <td>deli clerk server cashier food prep order taker</td>\n",
       "    </tr>\n",
       "    <tr>\n",
       "      <th>4</th>\n",
       "      <td>11</td>\n",
       "      <td>cashier</td>\n",
       "    </tr>\n",
       "  </tbody>\n",
       "</table>\n",
       "</div>"
      ],
      "text/plain": [
       "   Applicant.ID                                    Position.Name\n",
       "0             2                      volunteer writer uloop blog\n",
       "1             3                   market intern server prep cook\n",
       "2             6                                project assistant\n",
       "3             8  deli clerk server cashier food prep order taker\n",
       "4            11                                          cashier"
      ]
     },
     "execution_count": 26,
     "metadata": {
      "tags": []
     },
     "output_type": "execute_result"
    }
   ],
   "source": [
    "#adding same rows to a single row\r\n",
    "df_exp = df_exp.groupby('Applicant.ID')['Position.Name'].apply(' '.join).reset_index()\r\n",
    "df_exp.head(5)"
   ]
  },
  {
   "cell_type": "markdown",
   "metadata": {
    "id": "P7DyXe97_gx0"
   },
   "source": [
    "Position of interest data frame"
   ]
  },
  {
   "cell_type": "code",
   "execution_count": 27,
   "metadata": {
    "colab": {
     "base_uri": "https://localhost:8080/",
     "height": 0
    },
    "id": "Ymk20uKE-2Hk",
    "outputId": "5343ff0f-1137-48c9-e504-bcd5e79be6d6"
   },
   "outputs": [
    {
     "data": {
      "text/html": [
       "<div>\n",
       "<style scoped>\n",
       "    .dataframe tbody tr th:only-of-type {\n",
       "        vertical-align: middle;\n",
       "    }\n",
       "\n",
       "    .dataframe tbody tr th {\n",
       "        vertical-align: top;\n",
       "    }\n",
       "\n",
       "    .dataframe thead th {\n",
       "        text-align: right;\n",
       "    }\n",
       "</style>\n",
       "<table border=\"1\" class=\"dataframe\">\n",
       "  <thead>\n",
       "    <tr style=\"text-align: right;\">\n",
       "      <th></th>\n",
       "      <th>Applicant.ID</th>\n",
       "      <th>Position.Of.Interest</th>\n",
       "    </tr>\n",
       "  </thead>\n",
       "  <tbody>\n",
       "    <tr>\n",
       "      <th>6437</th>\n",
       "      <td>96</td>\n",
       "      <td>server</td>\n",
       "    </tr>\n",
       "    <tr>\n",
       "      <th>1156</th>\n",
       "      <td>153</td>\n",
       "      <td>barista</td>\n",
       "    </tr>\n",
       "    <tr>\n",
       "      <th>1155</th>\n",
       "      <td>153</td>\n",
       "      <td>host</td>\n",
       "    </tr>\n",
       "    <tr>\n",
       "      <th>1154</th>\n",
       "      <td>153</td>\n",
       "      <td>server</td>\n",
       "    </tr>\n",
       "    <tr>\n",
       "      <th>1158</th>\n",
       "      <td>153</td>\n",
       "      <td>sales rep</td>\n",
       "    </tr>\n",
       "  </tbody>\n",
       "</table>\n",
       "</div>"
      ],
      "text/plain": [
       "      Applicant.ID Position.Of.Interest\n",
       "6437            96               server\n",
       "1156           153              barista\n",
       "1155           153                 host\n",
       "1154           153               server\n",
       "1158           153            sales rep"
      ]
     },
     "execution_count": 27,
     "metadata": {
      "tags": []
     },
     "output_type": "execute_result"
    }
   ],
   "source": [
    "#Position of interest\r\n",
    "df_poi = df_poi.sort_values(by='Applicant.ID')\r\n",
    "df_poi=df_poi[['Applicant.ID','Position.Of.Interest']]\r\n",
    "#cleaning the text\r\n",
    "df_poi['Position.Of.Interest']=df_poi['Position.Of.Interest'].map(str).apply(clean_txt)\r\n",
    "df_poi = df_poi.fillna(\" \")\r\n",
    "df_poi.head()"
   ]
  },
  {
   "cell_type": "code",
   "execution_count": 28,
   "metadata": {
    "colab": {
     "base_uri": "https://localhost:8080/",
     "height": 0
    },
    "id": "AgR3qCI-_uQz",
    "outputId": "0f2f7e19-46bc-4753-97d9-fd12ed37a9bc"
   },
   "outputs": [
    {
     "data": {
      "text/html": [
       "<div>\n",
       "<style scoped>\n",
       "    .dataframe tbody tr th:only-of-type {\n",
       "        vertical-align: middle;\n",
       "    }\n",
       "\n",
       "    .dataframe tbody tr th {\n",
       "        vertical-align: top;\n",
       "    }\n",
       "\n",
       "    .dataframe thead th {\n",
       "        text-align: right;\n",
       "    }\n",
       "</style>\n",
       "<table border=\"1\" class=\"dataframe\">\n",
       "  <thead>\n",
       "    <tr style=\"text-align: right;\">\n",
       "      <th></th>\n",
       "      <th>Applicant.ID</th>\n",
       "      <th>Position.Of.Interest</th>\n",
       "    </tr>\n",
       "  </thead>\n",
       "  <tbody>\n",
       "    <tr>\n",
       "      <th>0</th>\n",
       "      <td>96</td>\n",
       "      <td>server</td>\n",
       "    </tr>\n",
       "    <tr>\n",
       "      <th>1</th>\n",
       "      <td>153</td>\n",
       "      <td>barista host server sales rep customer service...</td>\n",
       "    </tr>\n",
       "    <tr>\n",
       "      <th>2</th>\n",
       "      <td>256</td>\n",
       "      <td>host production area sales rep customer servic...</td>\n",
       "    </tr>\n",
       "    <tr>\n",
       "      <th>3</th>\n",
       "      <td>438</td>\n",
       "      <td>customer service rep barista host server</td>\n",
       "    </tr>\n",
       "    <tr>\n",
       "      <th>4</th>\n",
       "      <td>568</td>\n",
       "      <td>receptionist customer service rep book keeper</td>\n",
       "    </tr>\n",
       "  </tbody>\n",
       "</table>\n",
       "</div>"
      ],
      "text/plain": [
       "   Applicant.ID                               Position.Of.Interest\n",
       "0            96                                             server\n",
       "1           153  barista host server sales rep customer service...\n",
       "2           256  host production area sales rep customer servic...\n",
       "3           438           customer service rep barista host server\n",
       "4           568      receptionist customer service rep book keeper"
      ]
     },
     "execution_count": 28,
     "metadata": {
      "tags": []
     },
     "output_type": "execute_result"
    }
   ],
   "source": [
    "df_poi = df_poi.groupby('Applicant.ID', sort=True)['Position.Of.Interest'].apply(' '.join).reset_index()\r\n",
    "df_poi.head()"
   ]
  },
  {
   "cell_type": "markdown",
   "metadata": {
    "id": "bQT9cPLmAuph"
   },
   "source": [
    "###Merging users data frames"
   ]
  },
  {
   "cell_type": "markdown",
   "metadata": {
    "id": "X4k2_eo0lbhH"
   },
   "source": [
    "merging job_views and job_exp dataframes"
   ]
  },
  {
   "cell_type": "code",
   "execution_count": 29,
   "metadata": {
    "colab": {
     "base_uri": "https://localhost:8080/"
    },
    "id": "kn1AQclhBEls",
    "outputId": "f01d3dec-12b2-42ad-ed8e-1f44e6c95f1f"
   },
   "outputs": [
    {
     "name": "stdout",
     "output_type": "stream",
     "text": [
      "3448 3790\n"
     ]
    }
   ],
   "source": [
    "print(len(df_views),len(df_exp))"
   ]
  },
  {
   "cell_type": "code",
   "execution_count": 30,
   "metadata": {
    "colab": {
     "base_uri": "https://localhost:8080/",
     "height": 0
    },
    "id": "DTOGOvJRBExS",
    "outputId": "8e90fc61-ba47-4c6f-935f-8cb49a74418e"
   },
   "outputs": [
    {
     "data": {
      "text/html": [
       "<div>\n",
       "<style scoped>\n",
       "    .dataframe tbody tr th:only-of-type {\n",
       "        vertical-align: middle;\n",
       "    }\n",
       "\n",
       "    .dataframe tbody tr th {\n",
       "        vertical-align: top;\n",
       "    }\n",
       "\n",
       "    .dataframe thead th {\n",
       "        text-align: right;\n",
       "    }\n",
       "</style>\n",
       "<table border=\"1\" class=\"dataframe\">\n",
       "  <thead>\n",
       "    <tr style=\"text-align: right;\">\n",
       "      <th></th>\n",
       "      <th>Applicant.ID</th>\n",
       "      <th>select_pos_com_city</th>\n",
       "      <th>Position.Name</th>\n",
       "    </tr>\n",
       "  </thead>\n",
       "  <tbody>\n",
       "    <tr>\n",
       "      <th>0</th>\n",
       "      <td>42</td>\n",
       "      <td>movie extras actors model want san francisco p...</td>\n",
       "      <td>courtesy clerk street marketer</td>\n",
       "    </tr>\n",
       "    <tr>\n",
       "      <th>1</th>\n",
       "      <td>96</td>\n",
       "      <td>kitchen staff izakaya yuzuki san francisco ser...</td>\n",
       "      <td>cashiet waiter receptionist cashier</td>\n",
       "    </tr>\n",
       "    <tr>\n",
       "      <th>2</th>\n",
       "      <td>153</td>\n",
       "      <td>valic financial advisor intern roseville aig c...</td>\n",
       "      <td>banker front desk agent operations supervisor ...</td>\n",
       "    </tr>\n",
       "    <tr>\n",
       "      <th>3</th>\n",
       "      <td>601</td>\n",
       "      <td>retail sales consultant retail bay area associ...</td>\n",
       "      <td>NaN</td>\n",
       "    </tr>\n",
       "    <tr>\n",
       "      <th>4</th>\n",
       "      <td>1877</td>\n",
       "      <td>sales associate see candy sunnyvale</td>\n",
       "      <td>registration coordinator reeptionist front des...</td>\n",
       "    </tr>\n",
       "  </tbody>\n",
       "</table>\n",
       "</div>"
      ],
      "text/plain": [
       "   Applicant.ID  ...                                      Position.Name\n",
       "0            42  ...                     courtesy clerk street marketer\n",
       "1            96  ...                cashiet waiter receptionist cashier\n",
       "2           153  ...  banker front desk agent operations supervisor ...\n",
       "3           601  ...                                                NaN\n",
       "4          1877  ...  registration coordinator reeptionist front des...\n",
       "\n",
       "[5 rows x 3 columns]"
      ]
     },
     "execution_count": 30,
     "metadata": {
      "tags": []
     },
     "output_type": "execute_result"
    }
   ],
   "source": [
    "df_view_exp= df_views.merge(df_exp, on='Applicant.ID', how='outer')\r\n",
    "df_view_exp.head()"
   ]
  },
  {
   "cell_type": "code",
   "execution_count": 31,
   "metadata": {
    "colab": {
     "base_uri": "https://localhost:8080/"
    },
    "id": "pGHuE3SPN3dF",
    "outputId": "96b77f03-3a1c-4718-e498-aacde0906e96"
   },
   "outputs": [
    {
     "data": {
      "text/plain": [
       "(6461, 6461)"
      ]
     },
     "execution_count": 31,
     "metadata": {
      "tags": []
     },
     "output_type": "execute_result"
    }
   ],
   "source": [
    "len(df_view_exp),len(set(df_view_exp['Applicant.ID']))"
   ]
  },
  {
   "cell_type": "markdown",
   "metadata": {
    "id": "XJLkqCQulgUT"
   },
   "source": [
    "Merging position of interest with previous dataframe"
   ]
  },
  {
   "cell_type": "code",
   "execution_count": 32,
   "metadata": {
    "colab": {
     "base_uri": "https://localhost:8080/",
     "height": 0
    },
    "id": "J97csCneN32M",
    "outputId": "21216776-17e5-451f-b85f-d127457c2257"
   },
   "outputs": [
    {
     "data": {
      "text/html": [
       "<div>\n",
       "<style scoped>\n",
       "    .dataframe tbody tr th:only-of-type {\n",
       "        vertical-align: middle;\n",
       "    }\n",
       "\n",
       "    .dataframe tbody tr th {\n",
       "        vertical-align: top;\n",
       "    }\n",
       "\n",
       "    .dataframe thead th {\n",
       "        text-align: right;\n",
       "    }\n",
       "</style>\n",
       "<table border=\"1\" class=\"dataframe\">\n",
       "  <thead>\n",
       "    <tr style=\"text-align: right;\">\n",
       "      <th></th>\n",
       "      <th>Applicant.ID</th>\n",
       "      <th>Position.Of.Interest</th>\n",
       "      <th>select_pos_com_city</th>\n",
       "      <th>Position.Name</th>\n",
       "    </tr>\n",
       "  </thead>\n",
       "  <tbody>\n",
       "    <tr>\n",
       "      <th>0</th>\n",
       "      <td>96</td>\n",
       "      <td>server</td>\n",
       "      <td>kitchen staff izakaya yuzuki san francisco ser...</td>\n",
       "      <td>cashiet waiter receptionist cashier</td>\n",
       "    </tr>\n",
       "    <tr>\n",
       "      <th>1</th>\n",
       "      <td>153</td>\n",
       "      <td>barista host server sales rep customer service...</td>\n",
       "      <td>valic financial advisor intern roseville aig c...</td>\n",
       "      <td>banker front desk agent operations supervisor ...</td>\n",
       "    </tr>\n",
       "    <tr>\n",
       "      <th>2</th>\n",
       "      <td>256</td>\n",
       "      <td>host production area sales rep customer servic...</td>\n",
       "      <td></td>\n",
       "      <td>cashier server</td>\n",
       "    </tr>\n",
       "    <tr>\n",
       "      <th>3</th>\n",
       "      <td>438</td>\n",
       "      <td>customer service rep barista host server</td>\n",
       "      <td></td>\n",
       "      <td></td>\n",
       "    </tr>\n",
       "    <tr>\n",
       "      <th>4</th>\n",
       "      <td>568</td>\n",
       "      <td>receptionist customer service rep book keeper</td>\n",
       "      <td></td>\n",
       "      <td>account receivable specialist</td>\n",
       "    </tr>\n",
       "  </tbody>\n",
       "</table>\n",
       "</div>"
      ],
      "text/plain": [
       "   Applicant.ID  ...                                      Position.Name\n",
       "0            96  ...                cashiet waiter receptionist cashier\n",
       "1           153  ...  banker front desk agent operations supervisor ...\n",
       "2           256  ...                                     cashier server\n",
       "3           438  ...                                                   \n",
       "4           568  ...                      account receivable specialist\n",
       "\n",
       "[5 rows x 4 columns]"
      ]
     },
     "execution_count": 32,
     "metadata": {
      "tags": []
     },
     "output_type": "execute_result"
    }
   ],
   "source": [
    "df_user= df_poi.merge(df_view_exp, on='Applicant.ID', how='outer')\r\n",
    "df_user= df_user.fillna(' ')\r\n",
    "df_user.head()"
   ]
  },
  {
   "cell_type": "code",
   "execution_count": 33,
   "metadata": {
    "colab": {
     "base_uri": "https://localhost:8080/",
     "height": 0
    },
    "id": "GyMaJ35pmxPT",
    "outputId": "547eeb0f-edd7-4f56-b7fa-d90ebc4fffa1"
   },
   "outputs": [
    {
     "data": {
      "text/html": [
       "<div>\n",
       "<style scoped>\n",
       "    .dataframe tbody tr th:only-of-type {\n",
       "        vertical-align: middle;\n",
       "    }\n",
       "\n",
       "    .dataframe tbody tr th {\n",
       "        vertical-align: top;\n",
       "    }\n",
       "\n",
       "    .dataframe thead th {\n",
       "        text-align: right;\n",
       "    }\n",
       "</style>\n",
       "<table border=\"1\" class=\"dataframe\">\n",
       "  <thead>\n",
       "    <tr style=\"text-align: right;\">\n",
       "      <th></th>\n",
       "      <th>Applicant_id</th>\n",
       "      <th>text</th>\n",
       "    </tr>\n",
       "  </thead>\n",
       "  <tbody>\n",
       "    <tr>\n",
       "      <th>0</th>\n",
       "      <td>96</td>\n",
       "      <td>kitchen staff izakaya yuzuki san francisco ser...</td>\n",
       "    </tr>\n",
       "    <tr>\n",
       "      <th>1</th>\n",
       "      <td>153</td>\n",
       "      <td>valic financial advisor intern roseville aig c...</td>\n",
       "    </tr>\n",
       "    <tr>\n",
       "      <th>2</th>\n",
       "      <td>256</td>\n",
       "      <td>cashier server host production area sales rep ...</td>\n",
       "    </tr>\n",
       "    <tr>\n",
       "      <th>3</th>\n",
       "      <td>438</td>\n",
       "      <td>customer service rep barista host server</td>\n",
       "    </tr>\n",
       "    <tr>\n",
       "      <th>4</th>\n",
       "      <td>568</td>\n",
       "      <td>account receivable specialist receptionist cus...</td>\n",
       "    </tr>\n",
       "  </tbody>\n",
       "</table>\n",
       "</div>"
      ],
      "text/plain": [
       "   Applicant_id                                               text\n",
       "0            96  kitchen staff izakaya yuzuki san francisco ser...\n",
       "1           153  valic financial advisor intern roseville aig c...\n",
       "2           256  cashier server host production area sales rep ...\n",
       "3           438           customer service rep barista host server\n",
       "4           568  account receivable specialist receptionist cus..."
      ]
     },
     "execution_count": 33,
     "metadata": {
      "tags": []
     },
     "output_type": "execute_result"
    }
   ],
   "source": [
    "df_user[\"text\"] = df_user[\"select_pos_com_city\"].map(str) + df_user[\"Position.Name\"] +\" \"+ df_user[\"Position.Of.Interest\"]\r\n",
    "df_user= df_user[['Applicant.ID','text']]\r\n",
    "df_user.columns=['Applicant_id','text'] # renaming the columns of final user dataset\r\n",
    "df_user['text']=df_user['text'].apply(clean_txt)\r\n",
    "df_user.head()"
   ]
  },
  {
   "cell_type": "markdown",
   "metadata": {
    "id": "7tHZrlhBtc_q"
   },
   "source": [
    "###Selecting a User to whom the job should be recommended"
   ]
  },
  {
   "cell_type": "code",
   "execution_count": 34,
   "metadata": {
    "colab": {
     "base_uri": "https://localhost:8080/",
     "height": 0
    },
    "id": "WwbmrRq7pQFg",
    "outputId": "50da771b-045b-421b-ce0a-fd2631df988f"
   },
   "outputs": [
    {
     "data": {
      "text/html": [
       "<div>\n",
       "<style scoped>\n",
       "    .dataframe tbody tr th:only-of-type {\n",
       "        vertical-align: middle;\n",
       "    }\n",
       "\n",
       "    .dataframe tbody tr th {\n",
       "        vertical-align: top;\n",
       "    }\n",
       "\n",
       "    .dataframe thead th {\n",
       "        text-align: right;\n",
       "    }\n",
       "</style>\n",
       "<table border=\"1\" class=\"dataframe\">\n",
       "  <thead>\n",
       "    <tr style=\"text-align: right;\">\n",
       "      <th></th>\n",
       "      <th>Applicant_id</th>\n",
       "      <th>text</th>\n",
       "    </tr>\n",
       "  </thead>\n",
       "  <tbody>\n",
       "    <tr>\n",
       "      <th>5168</th>\n",
       "      <td>326</td>\n",
       "      <td>java developer</td>\n",
       "    </tr>\n",
       "  </tbody>\n",
       "</table>\n",
       "</div>"
      ],
      "text/plain": [
       "      Applicant_id            text\n",
       "5168           326  java developer"
      ]
     },
     "execution_count": 34,
     "metadata": {
      "tags": []
     },
     "output_type": "execute_result"
    }
   ],
   "source": [
    "u_id=326 # Applicant Id\r\n",
    "index = np.where(df_user['Applicant_id'] == u_id)[0][0]\r\n",
    "user_q = df_user.iloc[[index]]\r\n",
    "user_q"
   ]
  },
  {
   "cell_type": "markdown",
   "metadata": {
    "id": "4bafr-CmpvxR"
   },
   "source": [
    "## Building the recommender system"
   ]
  },
  {
   "cell_type": "markdown",
   "metadata": {
    "id": "26qt8hWAq8cv"
   },
   "source": [
    "### 1.) Using Cosine Similarity"
   ]
  },
  {
   "cell_type": "code",
   "execution_count": 47,
   "metadata": {
    "id": "1E-itFQip0Hv"
   },
   "outputs": [],
   "source": [
    "from sklearn.metrics.pairwise import cosine_similarity\r\n",
    "user_tfidf = tfidf_vectorizer.transform(user_q['text'])\r\n",
    "cos_similarity_tfidf = map(lambda x: cosine_similarity(user_tfidf, x),tfidf_jobid)"
   ]
  },
  {
   "cell_type": "markdown",
   "metadata": {
    "id": "glVh95UApfoS"
   },
   "source": []
  },
  {
   "cell_type": "code",
   "execution_count": 48,
   "metadata": {
    "id": "pquhqVArurjj"
   },
   "outputs": [],
   "source": [
    "op = list(cos_similarity_tfidf)"
   ]
  },
  {
   "cell_type": "code",
   "execution_count": 49,
   "metadata": {
    "colab": {
     "base_uri": "https://localhost:8080/"
    },
    "id": "cU3RkreCuyv2",
    "outputId": "8a20376e-8bfd-4bfd-a173-d1016ffd4891"
   },
   "outputs": [
    {
     "name": "stdout",
     "output_type": "stream",
     "text": [
      "84090\n"
     ]
    },
    {
     "data": {
      "text/plain": [
       "array([[0.]])"
      ]
     },
     "execution_count": 49,
     "metadata": {
      "tags": []
     },
     "output_type": "execute_result"
    }
   ],
   "source": [
    "print(len(op))\r\n",
    "op[0]"
   ]
  },
  {
   "cell_type": "code",
   "execution_count": 50,
   "metadata": {
    "colab": {
     "base_uri": "https://localhost:8080/"
    },
    "id": "Ws3mf0rJ9fnN",
    "outputId": "8e197b6f-9918-42d3-c26a-aef09576247f"
   },
   "outputs": [
    {
     "data": {
      "text/plain": [
       "array([[0.]])"
      ]
     },
     "execution_count": 50,
     "metadata": {
      "tags": []
     },
     "output_type": "execute_result"
    }
   ],
   "source": [
    "# for demonstration\r\n",
    "sim= cosine_similarity(user_tfidf, tfidf_jobid[50,:])\r\n",
    "sim"
   ]
  },
  {
   "cell_type": "code",
   "execution_count": 51,
   "metadata": {
    "id": "JTHjOY9EvP9W"
   },
   "outputs": [],
   "source": [
    " def get_recommendation(top, df_jobs, scores):\r\n",
    "  recommendation = pd.DataFrame(columns = ['ApplicantID', 'JobID',  'title', 'score'])\r\n",
    "  count = 0\r\n",
    "  for i in top:\r\n",
    "      recommendation.at[count, 'ApplicantID'] = u_id\r\n",
    "      recommendation.at[count, 'JobID'] = df_jobs['Job_ID'][i]\r\n",
    "      recommendation.at[count, 'title'] = df_jobs['Title'][i]\r\n",
    "      recommendation.at[count, 'score'] =  scores[count]\r\n",
    "      count += 1\r\n",
    "  return recommendation"
   ]
  },
  {
   "cell_type": "markdown",
   "metadata": {
    "id": "AXkC-YTeEfCg"
   },
   "source": [
    "Getting top 10 recommendations"
   ]
  },
  {
   "cell_type": "code",
   "execution_count": null,
   "metadata": {
    "colab": {
     "base_uri": "https://localhost:8080/",
     "height": 343
    },
    "id": "Y7Qo5r-_7tRV",
    "outputId": "e5661cc3-5151-4a56-fcba-dc61e635e728"
   },
   "outputs": [
    {
     "data": {
      "text/html": [
       "<div>\n",
       "<style scoped>\n",
       "    .dataframe tbody tr th:only-of-type {\n",
       "        vertical-align: middle;\n",
       "    }\n",
       "\n",
       "    .dataframe tbody tr th {\n",
       "        vertical-align: top;\n",
       "    }\n",
       "\n",
       "    .dataframe thead th {\n",
       "        text-align: right;\n",
       "    }\n",
       "</style>\n",
       "<table border=\"1\" class=\"dataframe\">\n",
       "  <thead>\n",
       "    <tr style=\"text-align: right;\">\n",
       "      <th></th>\n",
       "      <th>ApplicantID</th>\n",
       "      <th>JobID</th>\n",
       "      <th>title</th>\n",
       "      <th>score</th>\n",
       "    </tr>\n",
       "  </thead>\n",
       "  <tbody>\n",
       "    <tr>\n",
       "      <th>0</th>\n",
       "      <td>326</td>\n",
       "      <td>303112</td>\n",
       "      <td>Java Developer @ TransHire</td>\n",
       "      <td>0.749481</td>\n",
       "    </tr>\n",
       "    <tr>\n",
       "      <th>1</th>\n",
       "      <td>326</td>\n",
       "      <td>294684</td>\n",
       "      <td>Java Developer @ Kavaliro</td>\n",
       "      <td>0.740841</td>\n",
       "    </tr>\n",
       "    <tr>\n",
       "      <th>2</th>\n",
       "      <td>326</td>\n",
       "      <td>269922</td>\n",
       "      <td>Entry Level Java Developer / Jr. Java Develope...</td>\n",
       "      <td>0.736959</td>\n",
       "    </tr>\n",
       "    <tr>\n",
       "      <th>3</th>\n",
       "      <td>326</td>\n",
       "      <td>141831</td>\n",
       "      <td>Lead Java/J2EE Developer - Contract to Hire @ ...</td>\n",
       "      <td>0.671604</td>\n",
       "    </tr>\n",
       "    <tr>\n",
       "      <th>4</th>\n",
       "      <td>326</td>\n",
       "      <td>270171</td>\n",
       "      <td>Senior Java Developer - Contract to Hire - Gre...</td>\n",
       "      <td>0.644978</td>\n",
       "    </tr>\n",
       "    <tr>\n",
       "      <th>5</th>\n",
       "      <td>326</td>\n",
       "      <td>305264</td>\n",
       "      <td>Sr. Java Developer @ Paladin Consulting Inc</td>\n",
       "      <td>0.62543</td>\n",
       "    </tr>\n",
       "    <tr>\n",
       "      <th>6</th>\n",
       "      <td>326</td>\n",
       "      <td>309945</td>\n",
       "      <td>Java Software Engineer @ iTech Solutions, Inc.</td>\n",
       "      <td>0.592243</td>\n",
       "    </tr>\n",
       "    <tr>\n",
       "      <th>7</th>\n",
       "      <td>326</td>\n",
       "      <td>245753</td>\n",
       "      <td>Java Administrator @ ConsultNet</td>\n",
       "      <td>0.530202</td>\n",
       "    </tr>\n",
       "    <tr>\n",
       "      <th>8</th>\n",
       "      <td>326</td>\n",
       "      <td>146640</td>\n",
       "      <td>Jr. Java Developer @ Paladin Consulting Inc</td>\n",
       "      <td>0.510518</td>\n",
       "    </tr>\n",
       "    <tr>\n",
       "      <th>9</th>\n",
       "      <td>326</td>\n",
       "      <td>150882</td>\n",
       "      <td>Java Consultant - Mobile Apps Development @ Co...</td>\n",
       "      <td>0.48677</td>\n",
       "    </tr>\n",
       "  </tbody>\n",
       "</table>\n",
       "</div>"
      ],
      "text/plain": [
       "  ApplicantID  ...     score\n",
       "0         326  ...  0.749481\n",
       "1         326  ...  0.740841\n",
       "2         326  ...  0.736959\n",
       "3         326  ...  0.671604\n",
       "4         326  ...  0.644978\n",
       "5         326  ...   0.62543\n",
       "6         326  ...  0.592243\n",
       "7         326  ...  0.530202\n",
       "8         326  ...  0.510518\n",
       "9         326  ...   0.48677\n",
       "\n",
       "[10 rows x 4 columns]"
      ]
     },
     "execution_count": 45,
     "metadata": {
      "tags": []
     },
     "output_type": "execute_result"
    }
   ],
   "source": [
    "top = sorted(range(len(op)), key=lambda i: op[i], reverse=True)[:10]\r\n",
    "list_scores = [op[i][0][0] for i in top]\r\n",
    "get_recommendation(top,df_jobs, list_scores)"
   ]
  },
  {
   "cell_type": "markdown",
   "metadata": {
    "id": "rzmTAUZOEXa6"
   },
   "source": [
    "### 2.) Using KNN"
   ]
  },
  {
   "cell_type": "code",
   "execution_count": null,
   "metadata": {
    "id": "74MFIC1wCHDy"
   },
   "outputs": [],
   "source": [
    "from sklearn.neighbors import NearestNeighbors\r\n",
    "n_neighbors = 11\r\n",
    "KNN = NearestNeighbors(n_neighbors)\r\n",
    "KNN.fit(tfidf_jobid)\r\n",
    "NNs = KNN.kneighbors(user_tfidf, return_distance=True) "
   ]
  },
  {
   "cell_type": "code",
   "execution_count": null,
   "metadata": {
    "colab": {
     "base_uri": "https://localhost:8080/"
    },
    "id": "c5gaCd7elQi-",
    "outputId": "6b57bdc9-2278-463e-8dee-6c48978e8b27"
   },
   "outputs": [
    {
     "name": "stdout",
     "output_type": "stream",
     "text": [
      "(array([[0.70784066, 0.71994255, 0.72531474, 0.81042681, 0.84264137,\n",
      "        0.86552883, 0.90305777, 0.96932739, 0.98942606, 1.        ,\n",
      "        1.        ]]), array([[69346, 63958, 40385,  3231, 40634, 71496, 76180, 16225,  7108,\n",
      "        55896, 72067]]))\n"
     ]
    }
   ],
   "source": [
    "print(NNs)"
   ]
  },
  {
   "cell_type": "markdown",
   "metadata": {
    "id": "Q_EOXcvZnFqR"
   },
   "source": [
    "Getting Top 10 recommendations using KNN"
   ]
  },
  {
   "cell_type": "code",
   "execution_count": null,
   "metadata": {
    "colab": {
     "base_uri": "https://localhost:8080/",
     "height": 373
    },
    "id": "xSxLUmI4lptm",
    "outputId": "eea96f6b-92ec-4f6c-b842-6a20b5cddaaf"
   },
   "outputs": [
    {
     "data": {
      "text/html": [
       "<div>\n",
       "<style scoped>\n",
       "    .dataframe tbody tr th:only-of-type {\n",
       "        vertical-align: middle;\n",
       "    }\n",
       "\n",
       "    .dataframe tbody tr th {\n",
       "        vertical-align: top;\n",
       "    }\n",
       "\n",
       "    .dataframe thead th {\n",
       "        text-align: right;\n",
       "    }\n",
       "</style>\n",
       "<table border=\"1\" class=\"dataframe\">\n",
       "  <thead>\n",
       "    <tr style=\"text-align: right;\">\n",
       "      <th></th>\n",
       "      <th>ApplicantID</th>\n",
       "      <th>JobID</th>\n",
       "      <th>title</th>\n",
       "      <th>score</th>\n",
       "    </tr>\n",
       "  </thead>\n",
       "  <tbody>\n",
       "    <tr>\n",
       "      <th>0</th>\n",
       "      <td>326</td>\n",
       "      <td>303112</td>\n",
       "      <td>Java Developer @ TransHire</td>\n",
       "      <td>0.707841</td>\n",
       "    </tr>\n",
       "    <tr>\n",
       "      <th>1</th>\n",
       "      <td>326</td>\n",
       "      <td>294684</td>\n",
       "      <td>Java Developer @ Kavaliro</td>\n",
       "      <td>0.719943</td>\n",
       "    </tr>\n",
       "    <tr>\n",
       "      <th>2</th>\n",
       "      <td>326</td>\n",
       "      <td>269922</td>\n",
       "      <td>Entry Level Java Developer / Jr. Java Develope...</td>\n",
       "      <td>0.725315</td>\n",
       "    </tr>\n",
       "    <tr>\n",
       "      <th>3</th>\n",
       "      <td>326</td>\n",
       "      <td>141831</td>\n",
       "      <td>Lead Java/J2EE Developer - Contract to Hire @ ...</td>\n",
       "      <td>0.810427</td>\n",
       "    </tr>\n",
       "    <tr>\n",
       "      <th>4</th>\n",
       "      <td>326</td>\n",
       "      <td>270171</td>\n",
       "      <td>Senior Java Developer - Contract to Hire - Gre...</td>\n",
       "      <td>0.842641</td>\n",
       "    </tr>\n",
       "    <tr>\n",
       "      <th>5</th>\n",
       "      <td>326</td>\n",
       "      <td>305264</td>\n",
       "      <td>Sr. Java Developer @ Paladin Consulting Inc</td>\n",
       "      <td>0.865529</td>\n",
       "    </tr>\n",
       "    <tr>\n",
       "      <th>6</th>\n",
       "      <td>326</td>\n",
       "      <td>309945</td>\n",
       "      <td>Java Software Engineer @ iTech Solutions, Inc.</td>\n",
       "      <td>0.903058</td>\n",
       "    </tr>\n",
       "    <tr>\n",
       "      <th>7</th>\n",
       "      <td>326</td>\n",
       "      <td>245753</td>\n",
       "      <td>Java Administrator @ ConsultNet</td>\n",
       "      <td>0.969327</td>\n",
       "    </tr>\n",
       "    <tr>\n",
       "      <th>8</th>\n",
       "      <td>326</td>\n",
       "      <td>146640</td>\n",
       "      <td>Jr. Java Developer @ Paladin Consulting Inc</td>\n",
       "      <td>0.989426</td>\n",
       "    </tr>\n",
       "    <tr>\n",
       "      <th>9</th>\n",
       "      <td>326</td>\n",
       "      <td>285436</td>\n",
       "      <td>Bilingual Retail Sales Associate (432)</td>\n",
       "      <td>1</td>\n",
       "    </tr>\n",
       "    <tr>\n",
       "      <th>10</th>\n",
       "      <td>326</td>\n",
       "      <td>305835</td>\n",
       "      <td>Hospitality Jobs</td>\n",
       "      <td>1</td>\n",
       "    </tr>\n",
       "  </tbody>\n",
       "</table>\n",
       "</div>"
      ],
      "text/plain": [
       "   ApplicantID  ...     score\n",
       "0          326  ...  0.707841\n",
       "1          326  ...  0.719943\n",
       "2          326  ...  0.725315\n",
       "3          326  ...  0.810427\n",
       "4          326  ...  0.842641\n",
       "5          326  ...  0.865529\n",
       "6          326  ...  0.903058\n",
       "7          326  ...  0.969327\n",
       "8          326  ...  0.989426\n",
       "9          326  ...         1\n",
       "10         326  ...         1\n",
       "\n",
       "[11 rows x 4 columns]"
      ]
     },
     "execution_count": 66,
     "metadata": {
      "tags": []
     },
     "output_type": "execute_result"
    }
   ],
   "source": [
    "top = NNs[1][0]\r\n",
    "index_score = NNs[0][0]\r\n",
    "\r\n",
    "get_recommendation(top, df_jobs, index_score)"
   ]
  },
  {
   "cell_type": "code",
   "execution_count": null,
   "metadata": {
    "id": "tI3sCtjJ2eQ_"
   },
   "outputs": [],
   "source": []
  },
  {
   "cell_type": "markdown",
   "metadata": {
    "id": "ad_tbNkm2b2U"
   },
   "source": [
    "### 3.) Using Spacy"
   ]
  },
  {
   "cell_type": "code",
   "execution_count": 35,
   "metadata": {
    "id": "w7BxX8SZoizQ"
   },
   "outputs": [],
   "source": [
    "import spacy"
   ]
  },
  {
   "cell_type": "code",
   "execution_count": 36,
   "metadata": {
    "colab": {
     "base_uri": "https://localhost:8080/"
    },
    "id": "qL73KH4p5JK_",
    "outputId": "6d009d4d-7ba1-4ecb-c678-8c339ba28096"
   },
   "outputs": [
    {
     "name": "stdout",
     "output_type": "stream",
     "text": [
      "Requirement already satisfied: en_core_web_lg==2.2.5 from https://github.com/explosion/spacy-models/releases/download/en_core_web_lg-2.2.5/en_core_web_lg-2.2.5.tar.gz#egg=en_core_web_lg==2.2.5 in /usr/local/lib/python3.7/dist-packages (2.2.5)\n",
      "Requirement already satisfied: spacy>=2.2.2 in /usr/local/lib/python3.7/dist-packages (from en_core_web_lg==2.2.5) (2.2.4)\n",
      "Requirement already satisfied: thinc==7.4.0 in /usr/local/lib/python3.7/dist-packages (from spacy>=2.2.2->en_core_web_lg==2.2.5) (7.4.0)\n",
      "Requirement already satisfied: murmurhash<1.1.0,>=0.28.0 in /usr/local/lib/python3.7/dist-packages (from spacy>=2.2.2->en_core_web_lg==2.2.5) (1.0.5)\n",
      "Requirement already satisfied: catalogue<1.1.0,>=0.0.7 in /usr/local/lib/python3.7/dist-packages (from spacy>=2.2.2->en_core_web_lg==2.2.5) (1.0.0)\n",
      "Requirement already satisfied: wasabi<1.1.0,>=0.4.0 in /usr/local/lib/python3.7/dist-packages (from spacy>=2.2.2->en_core_web_lg==2.2.5) (0.8.2)\n",
      "Requirement already satisfied: srsly<1.1.0,>=1.0.2 in /usr/local/lib/python3.7/dist-packages (from spacy>=2.2.2->en_core_web_lg==2.2.5) (1.0.5)\n",
      "Requirement already satisfied: requests<3.0.0,>=2.13.0 in /usr/local/lib/python3.7/dist-packages (from spacy>=2.2.2->en_core_web_lg==2.2.5) (2.23.0)\n",
      "Requirement already satisfied: blis<0.5.0,>=0.4.0 in /usr/local/lib/python3.7/dist-packages (from spacy>=2.2.2->en_core_web_lg==2.2.5) (0.4.1)\n",
      "Requirement already satisfied: plac<1.2.0,>=0.9.6 in /usr/local/lib/python3.7/dist-packages (from spacy>=2.2.2->en_core_web_lg==2.2.5) (1.1.3)\n",
      "Requirement already satisfied: setuptools in /usr/local/lib/python3.7/dist-packages (from spacy>=2.2.2->en_core_web_lg==2.2.5) (54.0.0)\n",
      "Requirement already satisfied: cymem<2.1.0,>=2.0.2 in /usr/local/lib/python3.7/dist-packages (from spacy>=2.2.2->en_core_web_lg==2.2.5) (2.0.5)\n",
      "Requirement already satisfied: numpy>=1.15.0 in /usr/local/lib/python3.7/dist-packages (from spacy>=2.2.2->en_core_web_lg==2.2.5) (1.19.5)\n",
      "Requirement already satisfied: preshed<3.1.0,>=3.0.2 in /usr/local/lib/python3.7/dist-packages (from spacy>=2.2.2->en_core_web_lg==2.2.5) (3.0.5)\n",
      "Requirement already satisfied: tqdm<5.0.0,>=4.38.0 in /usr/local/lib/python3.7/dist-packages (from spacy>=2.2.2->en_core_web_lg==2.2.5) (4.41.1)\n",
      "Requirement already satisfied: importlib-metadata>=0.20; python_version < \"3.8\" in /usr/local/lib/python3.7/dist-packages (from catalogue<1.1.0,>=0.0.7->spacy>=2.2.2->en_core_web_lg==2.2.5) (3.7.0)\n",
      "Requirement already satisfied: idna<3,>=2.5 in /usr/local/lib/python3.7/dist-packages (from requests<3.0.0,>=2.13.0->spacy>=2.2.2->en_core_web_lg==2.2.5) (2.10)\n",
      "Requirement already satisfied: chardet<4,>=3.0.2 in /usr/local/lib/python3.7/dist-packages (from requests<3.0.0,>=2.13.0->spacy>=2.2.2->en_core_web_lg==2.2.5) (3.0.4)\n",
      "Requirement already satisfied: urllib3!=1.25.0,!=1.25.1,<1.26,>=1.21.1 in /usr/local/lib/python3.7/dist-packages (from requests<3.0.0,>=2.13.0->spacy>=2.2.2->en_core_web_lg==2.2.5) (1.24.3)\n",
      "Requirement already satisfied: certifi>=2017.4.17 in /usr/local/lib/python3.7/dist-packages (from requests<3.0.0,>=2.13.0->spacy>=2.2.2->en_core_web_lg==2.2.5) (2020.12.5)\n",
      "Requirement already satisfied: typing-extensions>=3.6.4; python_version < \"3.8\" in /usr/local/lib/python3.7/dist-packages (from importlib-metadata>=0.20; python_version < \"3.8\"->catalogue<1.1.0,>=0.0.7->spacy>=2.2.2->en_core_web_lg==2.2.5) (3.7.4.3)\n",
      "Requirement already satisfied: zipp>=0.5 in /usr/local/lib/python3.7/dist-packages (from importlib-metadata>=0.20; python_version < \"3.8\"->catalogue<1.1.0,>=0.0.7->spacy>=2.2.2->en_core_web_lg==2.2.5) (3.4.1)\n",
      "\u001b[38;5;2m✔ Download and installation successful\u001b[0m\n",
      "You can now load the model via spacy.load('en_core_web_lg')\n"
     ]
    }
   ],
   "source": [
    "!python -m spacy download en_core_web_lg"
   ]
  },
  {
   "cell_type": "code",
   "execution_count": 37,
   "metadata": {
    "colab": {
     "base_uri": "https://localhost:8080/"
    },
    "id": "RIfUMJ2r6KJl",
    "outputId": "b2f6773b-02f5-41c0-8645-307fefca2791"
   },
   "outputs": [
    {
     "name": "stdout",
     "output_type": "stream",
     "text": [
      "\u001b[38;5;2m✔ Download and installation successful\u001b[0m\n",
      "You can now load the model via spacy.load('en_core_web_lg')\n"
     ]
    }
   ],
   "source": [
    "import spacy.cli \r\n",
    "spacy.cli.download(\"en_core_web_lg\")"
   ]
  },
  {
   "cell_type": "code",
   "execution_count": 38,
   "metadata": {
    "id": "uA1w7kg-5Lka"
   },
   "outputs": [],
   "source": [
    "nlp = spacy.load('en_core_web_lg')"
   ]
  },
  {
   "cell_type": "markdown",
   "metadata": {
    "id": "aJccEKL46adx"
   },
   "source": [
    "Transform the corpus text to Spacy's document data structure"
   ]
  },
  {
   "cell_type": "code",
   "execution_count": 39,
   "metadata": {
    "colab": {
     "base_uri": "https://localhost:8080/"
    },
    "id": "Yj20P3Mz6C05",
    "outputId": "ccd65063-3cf7-4c82-8deb-607cfd4afad2"
   },
   "outputs": [
    {
     "name": "stdout",
     "output_type": "stream",
     "text": [
      "84090\n",
      "CPU times: user 43min 40s, sys: 29.2 s, total: 44min 9s\n",
      "Wall time: 44min 16s\n"
     ]
    }
   ],
   "source": [
    "%%time\r\n",
    "list_docs = []\r\n",
    "for i in range(len(df_jobs)):\r\n",
    "  doc1 = nlp(\"u'\" + df_jobs['text'][i] + \"'\")\r\n",
    "  list_docs.append((doc1,i))\r\n",
    "print(len(list_docs))"
   ]
  },
  {
   "cell_type": "code",
   "execution_count": 40,
   "metadata": {
    "id": "eK0GEHWEZNi7"
   },
   "outputs": [],
   "source": [
    "def calculateSimWithSpaCy(nlp, df, user_text, n=6):\r\n",
    "    # Calculate similarity using spaCy\r\n",
    "    list_sim =[]\r\n",
    "    doc1 = nlp(\"u'\" + user_text + \"'\")\r\n",
    "    for i in df.index:\r\n",
    "      try:\r\n",
    "            doc2 = list_docs[i][0]\r\n",
    "            score = doc1.similarity(doc2)\r\n",
    "            list_sim.append((doc1, doc2, list_docs[i][1],score))\r\n",
    "      except:\r\n",
    "        continue\r\n",
    "\r\n",
    "    return  list_sim"
   ]
  },
  {
   "cell_type": "code",
   "execution_count": 41,
   "metadata": {
    "colab": {
     "base_uri": "https://localhost:8080/",
     "height": 35
    },
    "id": "55sRUUm4Kt5F",
    "outputId": "1298c47f-b412-4abc-da83-1327ff45c46a"
   },
   "outputs": [
    {
     "data": {
      "application/vnd.google.colaboratory.intrinsic+json": {
       "type": "string"
      },
      "text/plain": [
       "'java developer'"
      ]
     },
     "execution_count": 41,
     "metadata": {
      "tags": []
     },
     "output_type": "execute_result"
    }
   ],
   "source": [
    "user_q.text[5168]"
   ]
  },
  {
   "cell_type": "code",
   "execution_count": 42,
   "metadata": {
    "colab": {
     "base_uri": "https://localhost:8080/"
    },
    "id": "sC8sqcYgKxaB",
    "outputId": "88eb37d7-4865-4773-f6b4-6e81f3bc0c3c"
   },
   "outputs": [
    {
     "name": "stdout",
     "output_type": "stream",
     "text": [
      "CPU times: user 1min 14s, sys: 441 ms, total: 1min 15s\n",
      "Wall time: 1min 14s\n"
     ]
    }
   ],
   "source": [
    "%%time\r\n",
    " df3 = calculateSimWithSpaCy(nlp, df_jobs, user_q.text[5168], n=15)"
   ]
  },
  {
   "cell_type": "code",
   "execution_count": 53,
   "metadata": {
    "id": "P5v4T3Q7aSJO"
   },
   "outputs": [],
   "source": [
    "df_recom_spacy = pd.DataFrame(df3).sort_values([3], ascending=False).head(10)\r\n",
    "df_recom_spacy.reset_index(inplace=True)\r\n",
    "index_spacy = df_recom_spacy[2]\r\n",
    "list_scores = df_recom_spacy[3]"
   ]
  },
  {
   "cell_type": "markdown",
   "metadata": {
    "id": "-NDpE8COZdDz"
   },
   "source": [
    "Top recommendations using Spacy"
   ]
  },
  {
   "cell_type": "code",
   "execution_count": 54,
   "metadata": {
    "colab": {
     "base_uri": "https://localhost:8080/",
     "height": 343
    },
    "id": "i2gTk6B3akbj",
    "outputId": "dda2f878-9eb9-47c0-9d95-ab48d90a8ca3"
   },
   "outputs": [
    {
     "data": {
      "text/html": [
       "<div>\n",
       "<style scoped>\n",
       "    .dataframe tbody tr th:only-of-type {\n",
       "        vertical-align: middle;\n",
       "    }\n",
       "\n",
       "    .dataframe tbody tr th {\n",
       "        vertical-align: top;\n",
       "    }\n",
       "\n",
       "    .dataframe thead th {\n",
       "        text-align: right;\n",
       "    }\n",
       "</style>\n",
       "<table border=\"1\" class=\"dataframe\">\n",
       "  <thead>\n",
       "    <tr style=\"text-align: right;\">\n",
       "      <th></th>\n",
       "      <th>ApplicantID</th>\n",
       "      <th>JobID</th>\n",
       "      <th>title</th>\n",
       "      <th>score</th>\n",
       "    </tr>\n",
       "  </thead>\n",
       "  <tbody>\n",
       "    <tr>\n",
       "      <th>0</th>\n",
       "      <td>326</td>\n",
       "      <td>250216</td>\n",
       "      <td>Microstrategy Developer @ Kavaliro</td>\n",
       "      <td>0.698317</td>\n",
       "    </tr>\n",
       "    <tr>\n",
       "      <th>1</th>\n",
       "      <td>326</td>\n",
       "      <td>294489</td>\n",
       "      <td>Magento Developer (ONSITE) @ Creative Circle</td>\n",
       "      <td>0.654219</td>\n",
       "    </tr>\n",
       "    <tr>\n",
       "      <th>2</th>\n",
       "      <td>326</td>\n",
       "      <td>172946</td>\n",
       "      <td>Non-Certified Nursing Assistant (CNA)</td>\n",
       "      <td>0.633758</td>\n",
       "    </tr>\n",
       "    <tr>\n",
       "      <th>3</th>\n",
       "      <td>326</td>\n",
       "      <td>308511</td>\n",
       "      <td>Account Manager - Sales</td>\n",
       "      <td>0.633758</td>\n",
       "    </tr>\n",
       "    <tr>\n",
       "      <th>4</th>\n",
       "      <td>326</td>\n",
       "      <td>308503</td>\n",
       "      <td>Account Manager - Sales</td>\n",
       "      <td>0.633758</td>\n",
       "    </tr>\n",
       "    <tr>\n",
       "      <th>5</th>\n",
       "      <td>326</td>\n",
       "      <td>308504</td>\n",
       "      <td>Account Manager - Sales</td>\n",
       "      <td>0.633758</td>\n",
       "    </tr>\n",
       "    <tr>\n",
       "      <th>6</th>\n",
       "      <td>326</td>\n",
       "      <td>308505</td>\n",
       "      <td>Account Manager - Sales</td>\n",
       "      <td>0.633758</td>\n",
       "    </tr>\n",
       "    <tr>\n",
       "      <th>7</th>\n",
       "      <td>326</td>\n",
       "      <td>308506</td>\n",
       "      <td>Account Manager - Sales</td>\n",
       "      <td>0.633758</td>\n",
       "    </tr>\n",
       "    <tr>\n",
       "      <th>8</th>\n",
       "      <td>326</td>\n",
       "      <td>308507</td>\n",
       "      <td>Account Manager - Sales</td>\n",
       "      <td>0.633758</td>\n",
       "    </tr>\n",
       "    <tr>\n",
       "      <th>9</th>\n",
       "      <td>326</td>\n",
       "      <td>308508</td>\n",
       "      <td>Account Manager - Sales</td>\n",
       "      <td>0.633758</td>\n",
       "    </tr>\n",
       "  </tbody>\n",
       "</table>\n",
       "</div>"
      ],
      "text/plain": [
       "  ApplicantID   JobID                                         title     score\n",
       "0         326  250216            Microstrategy Developer @ Kavaliro  0.698317\n",
       "1         326  294489  Magento Developer (ONSITE) @ Creative Circle  0.654219\n",
       "2         326  172946         Non-Certified Nursing Assistant (CNA)  0.633758\n",
       "3         326  308511                       Account Manager - Sales  0.633758\n",
       "4         326  308503                       Account Manager - Sales  0.633758\n",
       "5         326  308504                       Account Manager - Sales  0.633758\n",
       "6         326  308505                       Account Manager - Sales  0.633758\n",
       "7         326  308506                       Account Manager - Sales  0.633758\n",
       "8         326  308507                       Account Manager - Sales  0.633758\n",
       "9         326  308508                       Account Manager - Sales  0.633758"
      ]
     },
     "execution_count": 54,
     "metadata": {
      "tags": []
     },
     "output_type": "execute_result"
    }
   ],
   "source": [
    "get_recommendation(index_spacy, df_jobs, list_scores)"
   ]
  },
  {
   "cell_type": "code",
   "execution_count": null,
   "metadata": {
    "id": "Amv3TQ0IwpS-"
   },
   "outputs": [],
   "source": []
  }
 ],
 "metadata": {
  "colab": {
   "collapsed_sections": [
    "Mr_d0OWByMEa"
   ],
   "name": "Week9: Recomender systems.ipynb",
   "provenance": []
  },
  "kernelspec": {
   "display_name": "Python 3",
   "language": "python",
   "name": "python3"
  },
  "language_info": {
   "codemirror_mode": {
    "name": "ipython",
    "version": 3
   },
   "file_extension": ".py",
   "mimetype": "text/x-python",
   "name": "python",
   "nbconvert_exporter": "python",
   "pygments_lexer": "ipython3",
   "version": "3.7.1"
  }
 },
 "nbformat": 4,
 "nbformat_minor": 4
}
